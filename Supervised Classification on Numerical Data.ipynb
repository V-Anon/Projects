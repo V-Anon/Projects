{
 "cells": [
  {
   "cell_type": "markdown",
   "metadata": {},
   "source": [
    "<h1 align = 'center'> MultiClass Classification using Supervised Classification Algorithms"
   ]
  },
  {
   "cell_type": "code",
   "execution_count": 1,
   "metadata": {},
   "outputs": [],
   "source": [
    "import pandas as pd\n",
    "import numpy as np\n",
    "pd.set_option(\"display.max_columns\", None)\n",
    "import matplotlib.pyplot as plt\n",
    "%matplotlib inline \n",
    "import seaborn as sns\n",
    "\n",
    "import warnings\n",
    "warnings.filterwarnings('ignore')\n",
    "\n",
    "from sklearn.model_selection import train_test_split\n",
    "from sklearn.svm import LinearSVC\n",
    "from sklearn.neighbors import KNeighborsClassifier  \n",
    "from sklearn.naive_bayes import GaussianNB  \n",
    "from sklearn.neural_network import MLPClassifier\n",
    "from sklearn.linear_model import LogisticRegression\n",
    "\n",
    "\n",
    "from sklearn.metrics import confusion_matrix, zero_one_loss\n",
    "from sklearn.metrics import accuracy_score\n",
    "from sklearn.metrics import classification_report"
   ]
  },
  {
   "cell_type": "code",
   "execution_count": 2,
   "metadata": {},
   "outputs": [
    {
     "data": {
      "text/html": [
       "<div>\n",
       "<style scoped>\n",
       "    .dataframe tbody tr th:only-of-type {\n",
       "        vertical-align: middle;\n",
       "    }\n",
       "\n",
       "    .dataframe tbody tr th {\n",
       "        vertical-align: top;\n",
       "    }\n",
       "\n",
       "    .dataframe thead th {\n",
       "        text-align: right;\n",
       "    }\n",
       "</style>\n",
       "<table border=\"1\" class=\"dataframe\">\n",
       "  <thead>\n",
       "    <tr style=\"text-align: right;\">\n",
       "      <th></th>\n",
       "      <th>Id</th>\n",
       "      <th>Feature_1</th>\n",
       "      <th>Feature_2</th>\n",
       "      <th>Feature_3</th>\n",
       "      <th>Feature_4</th>\n",
       "      <th>target</th>\n",
       "    </tr>\n",
       "  </thead>\n",
       "  <tbody>\n",
       "    <tr>\n",
       "      <th>0</th>\n",
       "      <td>1</td>\n",
       "      <td>5.1</td>\n",
       "      <td>3.5</td>\n",
       "      <td>1.4</td>\n",
       "      <td>0.2</td>\n",
       "      <td>Class_1</td>\n",
       "    </tr>\n",
       "    <tr>\n",
       "      <th>1</th>\n",
       "      <td>2</td>\n",
       "      <td>4.9</td>\n",
       "      <td>3.0</td>\n",
       "      <td>1.4</td>\n",
       "      <td>0.2</td>\n",
       "      <td>Class_1</td>\n",
       "    </tr>\n",
       "    <tr>\n",
       "      <th>2</th>\n",
       "      <td>3</td>\n",
       "      <td>4.7</td>\n",
       "      <td>3.2</td>\n",
       "      <td>1.3</td>\n",
       "      <td>0.2</td>\n",
       "      <td>Class_1</td>\n",
       "    </tr>\n",
       "    <tr>\n",
       "      <th>3</th>\n",
       "      <td>4</td>\n",
       "      <td>4.6</td>\n",
       "      <td>3.1</td>\n",
       "      <td>1.5</td>\n",
       "      <td>0.2</td>\n",
       "      <td>Class_1</td>\n",
       "    </tr>\n",
       "    <tr>\n",
       "      <th>4</th>\n",
       "      <td>5</td>\n",
       "      <td>5.0</td>\n",
       "      <td>3.6</td>\n",
       "      <td>1.4</td>\n",
       "      <td>0.2</td>\n",
       "      <td>Class_1</td>\n",
       "    </tr>\n",
       "    <tr>\n",
       "      <th>...</th>\n",
       "      <td>...</td>\n",
       "      <td>...</td>\n",
       "      <td>...</td>\n",
       "      <td>...</td>\n",
       "      <td>...</td>\n",
       "      <td>...</td>\n",
       "    </tr>\n",
       "    <tr>\n",
       "      <th>145</th>\n",
       "      <td>146</td>\n",
       "      <td>6.7</td>\n",
       "      <td>3.0</td>\n",
       "      <td>5.2</td>\n",
       "      <td>2.3</td>\n",
       "      <td>Class_3</td>\n",
       "    </tr>\n",
       "    <tr>\n",
       "      <th>146</th>\n",
       "      <td>147</td>\n",
       "      <td>6.3</td>\n",
       "      <td>2.5</td>\n",
       "      <td>5.0</td>\n",
       "      <td>1.9</td>\n",
       "      <td>Class_3</td>\n",
       "    </tr>\n",
       "    <tr>\n",
       "      <th>147</th>\n",
       "      <td>148</td>\n",
       "      <td>6.5</td>\n",
       "      <td>3.0</td>\n",
       "      <td>5.2</td>\n",
       "      <td>2.0</td>\n",
       "      <td>Class_3</td>\n",
       "    </tr>\n",
       "    <tr>\n",
       "      <th>148</th>\n",
       "      <td>149</td>\n",
       "      <td>6.2</td>\n",
       "      <td>3.4</td>\n",
       "      <td>5.4</td>\n",
       "      <td>2.3</td>\n",
       "      <td>Class_3</td>\n",
       "    </tr>\n",
       "    <tr>\n",
       "      <th>149</th>\n",
       "      <td>150</td>\n",
       "      <td>5.9</td>\n",
       "      <td>3.0</td>\n",
       "      <td>5.1</td>\n",
       "      <td>1.8</td>\n",
       "      <td>Class_3</td>\n",
       "    </tr>\n",
       "  </tbody>\n",
       "</table>\n",
       "<p>150 rows × 6 columns</p>\n",
       "</div>"
      ],
      "text/plain": [
       "      Id  Feature_1  Feature_2  Feature_3  Feature_4   target\n",
       "0      1        5.1        3.5        1.4        0.2  Class_1\n",
       "1      2        4.9        3.0        1.4        0.2  Class_1\n",
       "2      3        4.7        3.2        1.3        0.2  Class_1\n",
       "3      4        4.6        3.1        1.5        0.2  Class_1\n",
       "4      5        5.0        3.6        1.4        0.2  Class_1\n",
       "..   ...        ...        ...        ...        ...      ...\n",
       "145  146        6.7        3.0        5.2        2.3  Class_3\n",
       "146  147        6.3        2.5        5.0        1.9  Class_3\n",
       "147  148        6.5        3.0        5.2        2.0  Class_3\n",
       "148  149        6.2        3.4        5.4        2.3  Class_3\n",
       "149  150        5.9        3.0        5.1        1.8  Class_3\n",
       "\n",
       "[150 rows x 6 columns]"
      ]
     },
     "execution_count": 2,
     "metadata": {},
     "output_type": "execute_result"
    }
   ],
   "source": [
    "#Reading the dataset csv file as Pandas DataFrame\n",
    "d = pd.read_csv(\"dataset_1.csv\")\n",
    "d"
   ]
  },
  {
   "cell_type": "code",
   "execution_count": 3,
   "metadata": {},
   "outputs": [
    {
     "data": {
      "text/plain": [
       "(150, 6)"
      ]
     },
     "execution_count": 3,
     "metadata": {},
     "output_type": "execute_result"
    }
   ],
   "source": [
    "#Checking the dimensions of the data frame\n",
    "d.shape"
   ]
  },
  {
   "cell_type": "code",
   "execution_count": 4,
   "metadata": {},
   "outputs": [
    {
     "data": {
      "text/plain": [
       "Id           0\n",
       "Feature_1    0\n",
       "Feature_2    0\n",
       "Feature_3    0\n",
       "Feature_4    0\n",
       "target       0\n",
       "dtype: int64"
      ]
     },
     "execution_count": 4,
     "metadata": {},
     "output_type": "execute_result"
    }
   ],
   "source": [
    "#Checking for missing values, and dispalying only those columns with missing values\n",
    "d.isnull().sum()"
   ]
  },
  {
   "cell_type": "code",
   "execution_count": 5,
   "metadata": {},
   "outputs": [
    {
     "name": "stdout",
     "output_type": "stream",
     "text": [
      "<class 'pandas.core.frame.DataFrame'>\n",
      "RangeIndex: 150 entries, 0 to 149\n",
      "Data columns (total 6 columns):\n",
      " #   Column     Non-Null Count  Dtype  \n",
      "---  ------     --------------  -----  \n",
      " 0   Id         150 non-null    int64  \n",
      " 1   Feature_1  150 non-null    float64\n",
      " 2   Feature_2  150 non-null    float64\n",
      " 3   Feature_3  150 non-null    float64\n",
      " 4   Feature_4  150 non-null    float64\n",
      " 5   target     150 non-null    object \n",
      "dtypes: float64(4), int64(1), object(1)\n",
      "memory usage: 7.2+ KB\n"
     ]
    }
   ],
   "source": [
    "# Reassuring all entries are Non-Null and checking data types of all columns\n",
    "d.info()"
   ]
  },
  {
   "cell_type": "markdown",
   "metadata": {},
   "source": [
    "<b> No missing values found in any of the columns and all Features (independent variables) are cotinuous numeric variables. "
   ]
  },
  {
   "cell_type": "code",
   "execution_count": 6,
   "metadata": {},
   "outputs": [
    {
     "data": {
      "text/html": [
       "<div>\n",
       "<style scoped>\n",
       "    .dataframe tbody tr th:only-of-type {\n",
       "        vertical-align: middle;\n",
       "    }\n",
       "\n",
       "    .dataframe tbody tr th {\n",
       "        vertical-align: top;\n",
       "    }\n",
       "\n",
       "    .dataframe thead th {\n",
       "        text-align: right;\n",
       "    }\n",
       "</style>\n",
       "<table border=\"1\" class=\"dataframe\">\n",
       "  <thead>\n",
       "    <tr style=\"text-align: right;\">\n",
       "      <th></th>\n",
       "      <th>Feature_1</th>\n",
       "      <th>Feature_2</th>\n",
       "      <th>Feature_3</th>\n",
       "      <th>Feature_4</th>\n",
       "      <th>target</th>\n",
       "    </tr>\n",
       "    <tr>\n",
       "      <th>Id</th>\n",
       "      <th></th>\n",
       "      <th></th>\n",
       "      <th></th>\n",
       "      <th></th>\n",
       "      <th></th>\n",
       "    </tr>\n",
       "  </thead>\n",
       "  <tbody>\n",
       "    <tr>\n",
       "      <th>1</th>\n",
       "      <td>5.1</td>\n",
       "      <td>3.5</td>\n",
       "      <td>1.4</td>\n",
       "      <td>0.2</td>\n",
       "      <td>Class_1</td>\n",
       "    </tr>\n",
       "    <tr>\n",
       "      <th>2</th>\n",
       "      <td>4.9</td>\n",
       "      <td>3.0</td>\n",
       "      <td>1.4</td>\n",
       "      <td>0.2</td>\n",
       "      <td>Class_1</td>\n",
       "    </tr>\n",
       "    <tr>\n",
       "      <th>3</th>\n",
       "      <td>4.7</td>\n",
       "      <td>3.2</td>\n",
       "      <td>1.3</td>\n",
       "      <td>0.2</td>\n",
       "      <td>Class_1</td>\n",
       "    </tr>\n",
       "    <tr>\n",
       "      <th>4</th>\n",
       "      <td>4.6</td>\n",
       "      <td>3.1</td>\n",
       "      <td>1.5</td>\n",
       "      <td>0.2</td>\n",
       "      <td>Class_1</td>\n",
       "    </tr>\n",
       "    <tr>\n",
       "      <th>5</th>\n",
       "      <td>5.0</td>\n",
       "      <td>3.6</td>\n",
       "      <td>1.4</td>\n",
       "      <td>0.2</td>\n",
       "      <td>Class_1</td>\n",
       "    </tr>\n",
       "    <tr>\n",
       "      <th>...</th>\n",
       "      <td>...</td>\n",
       "      <td>...</td>\n",
       "      <td>...</td>\n",
       "      <td>...</td>\n",
       "      <td>...</td>\n",
       "    </tr>\n",
       "    <tr>\n",
       "      <th>146</th>\n",
       "      <td>6.7</td>\n",
       "      <td>3.0</td>\n",
       "      <td>5.2</td>\n",
       "      <td>2.3</td>\n",
       "      <td>Class_3</td>\n",
       "    </tr>\n",
       "    <tr>\n",
       "      <th>147</th>\n",
       "      <td>6.3</td>\n",
       "      <td>2.5</td>\n",
       "      <td>5.0</td>\n",
       "      <td>1.9</td>\n",
       "      <td>Class_3</td>\n",
       "    </tr>\n",
       "    <tr>\n",
       "      <th>148</th>\n",
       "      <td>6.5</td>\n",
       "      <td>3.0</td>\n",
       "      <td>5.2</td>\n",
       "      <td>2.0</td>\n",
       "      <td>Class_3</td>\n",
       "    </tr>\n",
       "    <tr>\n",
       "      <th>149</th>\n",
       "      <td>6.2</td>\n",
       "      <td>3.4</td>\n",
       "      <td>5.4</td>\n",
       "      <td>2.3</td>\n",
       "      <td>Class_3</td>\n",
       "    </tr>\n",
       "    <tr>\n",
       "      <th>150</th>\n",
       "      <td>5.9</td>\n",
       "      <td>3.0</td>\n",
       "      <td>5.1</td>\n",
       "      <td>1.8</td>\n",
       "      <td>Class_3</td>\n",
       "    </tr>\n",
       "  </tbody>\n",
       "</table>\n",
       "<p>150 rows × 5 columns</p>\n",
       "</div>"
      ],
      "text/plain": [
       "     Feature_1  Feature_2  Feature_3  Feature_4   target\n",
       "Id                                                      \n",
       "1          5.1        3.5        1.4        0.2  Class_1\n",
       "2          4.9        3.0        1.4        0.2  Class_1\n",
       "3          4.7        3.2        1.3        0.2  Class_1\n",
       "4          4.6        3.1        1.5        0.2  Class_1\n",
       "5          5.0        3.6        1.4        0.2  Class_1\n",
       "..         ...        ...        ...        ...      ...\n",
       "146        6.7        3.0        5.2        2.3  Class_3\n",
       "147        6.3        2.5        5.0        1.9  Class_3\n",
       "148        6.5        3.0        5.2        2.0  Class_3\n",
       "149        6.2        3.4        5.4        2.3  Class_3\n",
       "150        5.9        3.0        5.1        1.8  Class_3\n",
       "\n",
       "[150 rows x 5 columns]"
      ]
     },
     "execution_count": 6,
     "metadata": {},
     "output_type": "execute_result"
    }
   ],
   "source": [
    "# setting id as index\n",
    "d = d.set_index(\"Id\")\n",
    "d"
   ]
  },
  {
   "cell_type": "code",
   "execution_count": 7,
   "metadata": {},
   "outputs": [
    {
     "data": {
      "text/html": [
       "<div>\n",
       "<style scoped>\n",
       "    .dataframe tbody tr th:only-of-type {\n",
       "        vertical-align: middle;\n",
       "    }\n",
       "\n",
       "    .dataframe tbody tr th {\n",
       "        vertical-align: top;\n",
       "    }\n",
       "\n",
       "    .dataframe thead th {\n",
       "        text-align: right;\n",
       "    }\n",
       "</style>\n",
       "<table border=\"1\" class=\"dataframe\">\n",
       "  <thead>\n",
       "    <tr style=\"text-align: right;\">\n",
       "      <th></th>\n",
       "      <th>Feature_1</th>\n",
       "      <th>Feature_2</th>\n",
       "      <th>Feature_3</th>\n",
       "      <th>Feature_4</th>\n",
       "    </tr>\n",
       "  </thead>\n",
       "  <tbody>\n",
       "    <tr>\n",
       "      <th>count</th>\n",
       "      <td>150.000000</td>\n",
       "      <td>150.000000</td>\n",
       "      <td>150.000000</td>\n",
       "      <td>150.000000</td>\n",
       "    </tr>\n",
       "    <tr>\n",
       "      <th>mean</th>\n",
       "      <td>5.843333</td>\n",
       "      <td>3.054000</td>\n",
       "      <td>3.758667</td>\n",
       "      <td>1.198667</td>\n",
       "    </tr>\n",
       "    <tr>\n",
       "      <th>std</th>\n",
       "      <td>0.828066</td>\n",
       "      <td>0.433594</td>\n",
       "      <td>1.764420</td>\n",
       "      <td>0.763161</td>\n",
       "    </tr>\n",
       "    <tr>\n",
       "      <th>min</th>\n",
       "      <td>4.300000</td>\n",
       "      <td>2.000000</td>\n",
       "      <td>1.000000</td>\n",
       "      <td>0.100000</td>\n",
       "    </tr>\n",
       "    <tr>\n",
       "      <th>25%</th>\n",
       "      <td>5.100000</td>\n",
       "      <td>2.800000</td>\n",
       "      <td>1.600000</td>\n",
       "      <td>0.300000</td>\n",
       "    </tr>\n",
       "    <tr>\n",
       "      <th>50%</th>\n",
       "      <td>5.800000</td>\n",
       "      <td>3.000000</td>\n",
       "      <td>4.350000</td>\n",
       "      <td>1.300000</td>\n",
       "    </tr>\n",
       "    <tr>\n",
       "      <th>75%</th>\n",
       "      <td>6.400000</td>\n",
       "      <td>3.300000</td>\n",
       "      <td>5.100000</td>\n",
       "      <td>1.800000</td>\n",
       "    </tr>\n",
       "    <tr>\n",
       "      <th>max</th>\n",
       "      <td>7.900000</td>\n",
       "      <td>4.400000</td>\n",
       "      <td>6.900000</td>\n",
       "      <td>2.500000</td>\n",
       "    </tr>\n",
       "  </tbody>\n",
       "</table>\n",
       "</div>"
      ],
      "text/plain": [
       "        Feature_1   Feature_2   Feature_3   Feature_4\n",
       "count  150.000000  150.000000  150.000000  150.000000\n",
       "mean     5.843333    3.054000    3.758667    1.198667\n",
       "std      0.828066    0.433594    1.764420    0.763161\n",
       "min      4.300000    2.000000    1.000000    0.100000\n",
       "25%      5.100000    2.800000    1.600000    0.300000\n",
       "50%      5.800000    3.000000    4.350000    1.300000\n",
       "75%      6.400000    3.300000    5.100000    1.800000\n",
       "max      7.900000    4.400000    6.900000    2.500000"
      ]
     },
     "execution_count": 7,
     "metadata": {},
     "output_type": "execute_result"
    }
   ],
   "source": [
    "#checking the summary and trend of columns in data frame\n",
    "d.describe()"
   ]
  },
  {
   "cell_type": "markdown",
   "metadata": {},
   "source": [
    "<h3> Univariate analysis"
   ]
  },
  {
   "cell_type": "code",
   "execution_count": 8,
   "metadata": {},
   "outputs": [
    {
     "data": {
      "image/png": "[encoded data removed]",
      "text/plain": [
       "<Figure size 432x288 with 1 Axes>"
      ]
     },
     "metadata": {
      "needs_background": "light"
     },
     "output_type": "display_data"
    }
   ],
   "source": [
    "plt.title(\"Feature_1\")\n",
    "sns.boxplot(y=d.Feature_1)\n",
    "plt.show()"
   ]
  },
  {
   "cell_type": "code",
   "execution_count": 9,
   "metadata": {},
   "outputs": [
    {
     "data": {
      "image/png": "[encoded data removed]",
      "text/plain": [
       "<Figure size 432x288 with 1 Axes>"
      ]
     },
     "metadata": {
      "needs_background": "light"
     },
     "output_type": "display_data"
    }
   ],
   "source": [
    "plt.title(\"Feature_2\")\n",
    "sns.boxplot(y=d.Feature_2)\n",
    "plt.show()"
   ]
  },
  {
   "cell_type": "code",
   "execution_count": 10,
   "metadata": {},
   "outputs": [
    {
     "data": {
      "image/png": "[encoded data removed]",
      "text/plain": [
       "<Figure size 432x288 with 1 Axes>"
      ]
     },
     "metadata": {
      "needs_background": "light"
     },
     "output_type": "display_data"
    }
   ],
   "source": [
    "plt.title(\"Feature_3\")\n",
    "sns.boxplot(y=d.Feature_3)\n",
    "plt.show()"
   ]
  },
  {
   "cell_type": "code",
   "execution_count": 11,
   "metadata": {},
   "outputs": [
    {
     "data": {
      "image/png": "[encoded data removed]",
      "text/plain": [
       "<Figure size 432x288 with 1 Axes>"
      ]
     },
     "metadata": {
      "needs_background": "light"
     },
     "output_type": "display_data"
    }
   ],
   "source": [
    "plt.title(\"Feature_4\")\n",
    "sns.boxplot(y=d.Feature_4)\n",
    "plt.show()"
   ]
  },
  {
   "cell_type": "markdown",
   "metadata": {},
   "source": [
    "Only Feature_2 has a few outliers, which are not significant enough to be removed from the data. Hence, no outlier removal required"
   ]
  },
  {
   "cell_type": "code",
   "execution_count": 12,
   "metadata": {},
   "outputs": [
    {
     "data": {
      "text/plain": [
       "<matplotlib.axes._subplots.AxesSubplot at 0x1abb487a580>"
      ]
     },
     "execution_count": 12,
     "metadata": {},
     "output_type": "execute_result"
    },
    {
     "data": {
      "image/png": "[encoded data removed]",
      "text/plain": [
       "<Figure size 432x288 with 1 Axes>"
      ]
     },
     "metadata": {
      "needs_background": "light"
     },
     "output_type": "display_data"
    }
   ],
   "source": [
    "sns.countplot(d.target)"
   ]
  },
  {
   "cell_type": "markdown",
   "metadata": {},
   "source": [
    "All classes are similary ditributed in the target variable and hence no need include class imbalnce factor while crating the ML model. Checking the correlation between continuous variables before proceeding with further analysis."
   ]
  },
  {
   "cell_type": "code",
   "execution_count": 13,
   "metadata": {},
   "outputs": [
    {
     "data": {
      "image/png": "[encoded data removed]",
      "text/plain": [
       "<Figure size 1080x576 with 2 Axes>"
      ]
     },
     "metadata": {
      "needs_background": "light"
     },
     "output_type": "display_data"
    }
   ],
   "source": [
    "corr_feature = [\"Feature_1\",\"Feature_2\",\"Feature_3\",\"Feature_4\"]\n",
    "d_corr = d[corr_feature].corr()\n",
    "plt.figure(figsize=(15,8))\n",
    "sns.heatmap(d_corr,vmin=-1.0,vmax=1.0,annot=True, cmap=\"YlGnBu\")\n",
    "plt.title(\"Correlation of Continuous Numeric Variables\", fontsize = 16)\n",
    "plt.show()"
   ]
  },
  {
   "cell_type": "markdown",
   "metadata": {},
   "source": [
    "While Features 1,3 and 4 seems to be stongly positively correlated, Feature 2 is weakly negatively correlated with all the other 3 variables. This can be elucidated further in bivariate analysis using scatter plots."
   ]
  },
  {
   "cell_type": "markdown",
   "metadata": {},
   "source": [
    "<h3> Bivariate analysis"
   ]
  },
  {
   "cell_type": "code",
   "execution_count": 14,
   "metadata": {},
   "outputs": [],
   "source": [
    "# function to plot scatter plot for two features\n",
    "def plotScatter(x, y):\n",
    "    sns.scatterplot(x=x, y=y, data=d)\n",
    "    plt.title(\"Scatter plot between \"+x+\" and \"+y+\"\")\n",
    "    plt.xlabel(x, fontsize=16)\n",
    "    plt.ylabel(y, fontsize=16)\n",
    "    plt.show()"
   ]
  },
  {
   "cell_type": "code",
   "execution_count": 15,
   "metadata": {},
   "outputs": [
    {
     "data": {
      "image/png": "[encoded data removed]",
      "text/plain": [
       "<Figure size 432x288 with 1 Axes>"
      ]
     },
     "metadata": {
      "needs_background": "light"
     },
     "output_type": "display_data"
    }
   ],
   "source": [
    "plotScatter(\"Feature_1\", \"Feature_2\")"
   ]
  },
  {
   "cell_type": "code",
   "execution_count": 16,
   "metadata": {},
   "outputs": [
    {
     "data": {
      "image/png": "[encoded data removed]",
      "text/plain": [
       "<Figure size 432x288 with 1 Axes>"
      ]
     },
     "metadata": {
      "needs_background": "light"
     },
     "output_type": "display_data"
    }
   ],
   "source": [
    "plotScatter(\"Feature_1\", \"Feature_3\")"
   ]
  },
  {
   "cell_type": "code",
   "execution_count": 17,
   "metadata": {},
   "outputs": [
    {
     "data": {
      "image/png": "[encoded data removed]",
      "text/plain": [
       "<Figure size 432x288 with 1 Axes>"
      ]
     },
     "metadata": {
      "needs_background": "light"
     },
     "output_type": "display_data"
    }
   ],
   "source": [
    "plotScatter(\"Feature_1\", \"Feature_4\")"
   ]
  },
  {
   "cell_type": "code",
   "execution_count": 18,
   "metadata": {},
   "outputs": [
    {
     "data": {
      "image/png": "[encoded data removed]",
      "text/plain": [
       "<Figure size 432x288 with 1 Axes>"
      ]
     },
     "metadata": {
      "needs_background": "light"
     },
     "output_type": "display_data"
    }
   ],
   "source": [
    "plotScatter(\"Feature_3\", \"Feature_2\")"
   ]
  },
  {
   "cell_type": "code",
   "execution_count": 19,
   "metadata": {},
   "outputs": [
    {
     "data": {
      "image/png": "[encoded data removed]",
      "text/plain": [
       "<Figure size 432x288 with 1 Axes>"
      ]
     },
     "metadata": {
      "needs_background": "light"
     },
     "output_type": "display_data"
    }
   ],
   "source": [
    "plotScatter(\"Feature_4\", \"Feature_2\")"
   ]
  },
  {
   "cell_type": "code",
   "execution_count": 20,
   "metadata": {},
   "outputs": [
    {
     "data": {
      "image/png": "[encoded data removed]",
      "text/plain": [
       "<Figure size 432x288 with 1 Axes>"
      ]
     },
     "metadata": {
      "needs_background": "light"
     },
     "output_type": "display_data"
    }
   ],
   "source": [
    "plotScatter(\"Feature_3\", \"Feature_4\")"
   ]
  },
  {
   "cell_type": "markdown",
   "metadata": {},
   "source": [
    "Checking Influence of each feature on the target variable"
   ]
  },
  {
   "cell_type": "code",
   "execution_count": 21,
   "metadata": {},
   "outputs": [
    {
     "data": {
      "image/png": "[encoded data removed]",
      "text/plain": [
       "<Figure size 432x288 with 1 Axes>"
      ]
     },
     "metadata": {
      "needs_background": "light"
     },
     "output_type": "display_data"
    }
   ],
   "source": [
    "sns.barplot(x = \"target\", y = \"Feature_1\", data = d)\n",
    "plt.show()"
   ]
  },
  {
   "cell_type": "code",
   "execution_count": 22,
   "metadata": {},
   "outputs": [
    {
     "data": {
      "image/png": "[encoded data removed]",
      "text/plain": [
       "<Figure size 432x288 with 1 Axes>"
      ]
     },
     "metadata": {
      "needs_background": "light"
     },
     "output_type": "display_data"
    }
   ],
   "source": [
    "sns.barplot(x = \"target\", y = \"Feature_2\", data = d)\n",
    "plt.show()"
   ]
  },
  {
   "cell_type": "code",
   "execution_count": 23,
   "metadata": {},
   "outputs": [
    {
     "data": {
      "image/png": "[encoded data removed]",
      "text/plain": [
       "<Figure size 432x288 with 1 Axes>"
      ]
     },
     "metadata": {
      "needs_background": "light"
     },
     "output_type": "display_data"
    }
   ],
   "source": [
    "sns.barplot(x = \"target\", y = \"Feature_3\", data = d)\n",
    "plt.show()"
   ]
  },
  {
   "cell_type": "code",
   "execution_count": 24,
   "metadata": {},
   "outputs": [
    {
     "data": {
      "image/png": "[encoded data removed]",
      "text/plain": [
       "<Figure size 432x288 with 1 Axes>"
      ]
     },
     "metadata": {
      "needs_background": "light"
     },
     "output_type": "display_data"
    }
   ],
   "source": [
    "sns.barplot(x = \"target\", y = \"Feature_4\", data = d)\n",
    "plt.show()"
   ]
  },
  {
   "cell_type": "markdown",
   "metadata": {},
   "source": [
    "<h3> Train-Test Data Creation </h3>\n",
    "\n",
    "Need to split the dataset into Train and Test datasets using 80/20 split in order to train and test ML models. To split the whole dataset into two, the train_test_split functionaluty from sklearn library can be used, wherein the Train data will be used to build the model and test data to evaluate the performance of the model."
   ]
  },
  {
   "cell_type": "code",
   "execution_count": 25,
   "metadata": {},
   "outputs": [
    {
     "name": "stdout",
     "output_type": "stream",
     "text": [
      "(120, 4) (120,)\n",
      "(30, 4) (30,)\n"
     ]
    }
   ],
   "source": [
    "x = d[[\"Feature_1\", \"Feature_2\",\"Feature_3\",\"Feature_4\"]] #independent variables\n",
    "y = d.target #dependent variable\n",
    "x_train, x_test, y_train, y_test = train_test_split(x, y, test_size=0.2)\n",
    "print(x_train.shape, y_train.shape)\n",
    "print(x_test.shape, y_test.shape)"
   ]
  },
  {
   "cell_type": "markdown",
   "metadata": {},
   "source": [
    "<h3> Bulding Classification Models </h3>\n",
    "\n",
    "Using different supervised ML classification algorithoms on training data set classification models are build and the performance is validated using test data set.\n",
    "\n",
    "<h4> Linear SVC </h4>\n",
    "\n",
    "The Linear Support Vector Classifier (L SVC) method applies a linear kernel function to perform classification and it performs well with a large number of samples. If we compare it with the SVC model, the Linear SVC has additional parameters such as penalty normalization which applies 'L1' or 'L2' and loss function. The kernel method can not be changed in linear SVC, because it is based on the kernel linear method. "
   ]
  },
  {
   "cell_type": "code",
   "execution_count": 26,
   "metadata": {},
   "outputs": [
    {
     "name": "stdout",
     "output_type": "stream",
     "text": [
      "Confusion Matrix of Train dataset: \n",
      " [[39  0  0]\n",
      " [ 0 38  2]\n",
      " [ 0  2 39]]\n",
      "\n",
      " Accuracy on train dataset: 0.9666666666666667\n",
      "\n",
      " Error in Train dataset:  0.033333333333333326\n",
      "\n",
      " Model Performance in Train dataset: \n",
      "               precision    recall  f1-score   support\n",
      "\n",
      "     Class_1       1.00      1.00      1.00        39\n",
      "     Class_2       0.95      0.95      0.95        40\n",
      "     Class_3       0.95      0.95      0.95        41\n",
      "\n",
      "    accuracy                           0.97       120\n",
      "   macro avg       0.97      0.97      0.97       120\n",
      "weighted avg       0.97      0.97      0.97       120\n",
      "\n",
      "\n",
      " Confusion Matrix of Test dataset: \n",
      " [[11  0  0]\n",
      " [ 0  7  3]\n",
      " [ 0  0  9]]\n",
      "\n",
      " Accuracy on Test dataset:  0.9\n",
      "\n",
      " Error in Test dataset:  0.09999999999999998\n",
      "\n",
      " Model Performance in Test dataset: \n",
      "               precision    recall  f1-score   support\n",
      "\n",
      "     Class_1       1.00      1.00      1.00        11\n",
      "     Class_2       1.00      0.70      0.82        10\n",
      "     Class_3       0.75      1.00      0.86         9\n",
      "\n",
      "    accuracy                           0.90        30\n",
      "   macro avg       0.92      0.90      0.89        30\n",
      "weighted avg       0.93      0.90      0.90        30\n",
      "\n"
     ]
    }
   ],
   "source": [
    "#Building Model\n",
    "svc = LinearSVC()\n",
    "svc.fit(x_train, y_train)\n",
    "\n",
    "y_pred_train = svc.predict(x_train)\n",
    "y_pred = svc.predict(x_test)\n",
    "\n",
    "error_train = zero_one_loss(y_train, y_pred_train)\n",
    "error = zero_one_loss(y_test, y_pred)\n",
    "\n",
    "train_svc = confusion_matrix(y_train, y_pred_train)\n",
    "results_svc = confusion_matrix(y_test, y_pred)\n",
    "\n",
    "print(\"Confusion Matrix of Train dataset: \\n\", train_svc)\n",
    "print(\"\\n Accuracy on train dataset:\", accuracy_score(y_train, y_pred_train))\n",
    "print(\"\\n Error in Train dataset: \", error_train)\n",
    "print(\"\\n Model Performance in Train dataset: \\n\",classification_report(y_train, y_pred_train))\n",
    "\n",
    "print(\"\\n Confusion Matrix of Test dataset: \\n\", results_svc)\n",
    "print(\"\\n Accuracy on Test dataset: \", accuracy_score(y_pred, y_test))\n",
    "print(\"\\n Error in Test dataset: \", error)\n",
    "print(\"\\n Model Performance in Test dataset: \\n\",classification_report(y_test, y_pred))"
   ]
  },
  {
   "cell_type": "markdown",
   "metadata": {},
   "source": [
    "<h4> KNN </h4>\n",
    "\n",
    "K-Nearest Neighbours algorithm assumes the similarity between the new case/data and available cases and put the new case into the category that is most similar to the available categories. It stores all the available data and classifies a new data point based on the similarity. This means when new data appears then it can be easily classified into a well suite category by using K- NN algorithm. K-NN is a non-parametric algorithm, which means it does not make any assumption on underlying data.\n",
    "It is also called a lazy learner algorithm because it does not learn from the training set immediately instead it stores the dataset and at the time of classification, it performs an action on the dataset. KNN algorithm at the training phase just stores the dataset and when it gets new data, then it classifies that data into a category that is much similar to the new data."
   ]
  },
  {
   "cell_type": "code",
   "execution_count": 28,
   "metadata": {},
   "outputs": [
    {
     "name": "stdout",
     "output_type": "stream",
     "text": [
      "Confusion Matrix of Train dataset: \n",
      " [[39  0  0]\n",
      " [ 0 38  2]\n",
      " [ 0  2 39]]\n",
      "\n",
      " Accuracy on train dataset: 0.9666666666666667\n",
      "\n",
      " Error in Train dataset:  0.033333333333333326\n",
      "\n",
      " Model Performance in Train dataset: \n",
      "               precision    recall  f1-score   support\n",
      "\n",
      "     Class_1       1.00      1.00      1.00        39\n",
      "     Class_2       0.95      0.95      0.95        40\n",
      "     Class_3       0.95      0.95      0.95        41\n",
      "\n",
      "    accuracy                           0.97       120\n",
      "   macro avg       0.97      0.97      0.97       120\n",
      "weighted avg       0.97      0.97      0.97       120\n",
      "\n",
      "\n",
      " Confusion Matrix of Test dataset: \n",
      " [[11  0  0]\n",
      " [ 0  9  1]\n",
      " [ 0  0  9]]\n",
      "\n",
      " Accuracy on Test dataset:  0.9666666666666667\n",
      "\n",
      " Error in Test dataset:  0.033333333333333326\n",
      "\n",
      " Model Performance in Test dataset: \n",
      "               precision    recall  f1-score   support\n",
      "\n",
      "     Class_1       1.00      1.00      1.00        11\n",
      "     Class_2       1.00      0.90      0.95        10\n",
      "     Class_3       0.90      1.00      0.95         9\n",
      "\n",
      "    accuracy                           0.97        30\n",
      "   macro avg       0.97      0.97      0.96        30\n",
      "weighted avg       0.97      0.97      0.97        30\n",
      "\n"
     ]
    }
   ],
   "source": [
    "#Building Model\n",
    "knn = KNeighborsClassifier()\n",
    "knn.fit(x_train, y_train)\n",
    "\n",
    "y_pred_train = knn.predict(x_train)\n",
    "y_pred = knn.predict(x_test)\n",
    "\n",
    "error_train = zero_one_loss(y_train, y_pred_train)\n",
    "error = zero_one_loss(y_test, y_pred)\n",
    "\n",
    "train_knn = confusion_matrix(y_train, y_pred_train)\n",
    "results_knn = confusion_matrix(y_test, y_pred)\n",
    "\n",
    "print(\"Confusion Matrix of Train dataset: \\n\", train_knn)\n",
    "print(\"\\n Accuracy on train dataset:\", accuracy_score(y_train, y_pred_train))\n",
    "print(\"\\n Error in Train dataset: \", error_train)\n",
    "print(\"\\n Model Performance in Train dataset: \\n\",classification_report(y_train, y_pred_train))\n",
    "\n",
    "print(\"\\n Confusion Matrix of Test dataset: \\n\", results_knn)\n",
    "print(\"\\n Accuracy on Test dataset: \", accuracy_score(y_pred, y_test))\n",
    "print(\"\\n Error in Test dataset: \", error)\n",
    "print(\"\\n Model Performance in Test dataset: \\n\",classification_report(y_test, y_pred))"
   ]
  },
  {
   "cell_type": "markdown",
   "metadata": {},
   "source": [
    "<h4> NB </h4>\n",
    "\n",
    "Naïve Bayes algorithm is a supervised learning algorithm, which is based on Bayes theorem and used for solving classification problems. It is mainly used in text classification that includes a high-dimensional training dataset. It is a probabilistic classifier, which means it predicts on the basis of the probability of an object."
   ]
  },
  {
   "cell_type": "code",
   "execution_count": 29,
   "metadata": {},
   "outputs": [
    {
     "name": "stdout",
     "output_type": "stream",
     "text": [
      "Confusion Matrix of Train dataset: \n",
      " [[39  0  0]\n",
      " [ 0 38  2]\n",
      " [ 0  3 38]]\n",
      "\n",
      " Accuracy on train dataset: 0.9583333333333334\n",
      "\n",
      " Error in Train dataset:  0.04166666666666663\n",
      "\n",
      " Model Performance in Train dataset: \n",
      "               precision    recall  f1-score   support\n",
      "\n",
      "     Class_1       1.00      1.00      1.00        39\n",
      "     Class_2       0.93      0.95      0.94        40\n",
      "     Class_3       0.95      0.93      0.94        41\n",
      "\n",
      "    accuracy                           0.96       120\n",
      "   macro avg       0.96      0.96      0.96       120\n",
      "weighted avg       0.96      0.96      0.96       120\n",
      "\n",
      "\n",
      " Confusion Matrix of Test dataset: \n",
      " [[11  0  0]\n",
      " [ 0  8  2]\n",
      " [ 0  0  9]]\n",
      "\n",
      " Accuracy on Test dataset:  0.9333333333333333\n",
      "\n",
      " Error in Test dataset:  0.06666666666666665\n",
      "\n",
      " Model Performance in Test dataset: \n",
      "               precision    recall  f1-score   support\n",
      "\n",
      "     Class_1       1.00      1.00      1.00        11\n",
      "     Class_2       1.00      0.80      0.89        10\n",
      "     Class_3       0.82      1.00      0.90         9\n",
      "\n",
      "    accuracy                           0.93        30\n",
      "   macro avg       0.94      0.93      0.93        30\n",
      "weighted avg       0.95      0.93      0.93        30\n",
      "\n"
     ]
    }
   ],
   "source": [
    "#Building Model\n",
    "nb = GaussianNB()\n",
    "nb.fit(x_train, y_train)\n",
    "\n",
    "y_pred_train = nb.predict(x_train)\n",
    "y_pred = nb.predict(x_test)\n",
    "\n",
    "error_train = zero_one_loss(y_train, y_pred_train)\n",
    "error = zero_one_loss(y_test, y_pred)\n",
    "\n",
    "train_nb = confusion_matrix(y_train, y_pred_train)\n",
    "results_nb = confusion_matrix(y_test, y_pred)\n",
    "\n",
    "print(\"Confusion Matrix of Train dataset: \\n\", train_nb)\n",
    "print(\"\\n Accuracy on train dataset:\", accuracy_score(y_train, y_pred_train))\n",
    "print(\"\\n Error in Train dataset: \", error_train)\n",
    "print(\"\\n Model Performance in Train dataset: \\n\",classification_report(y_train, y_pred_train))\n",
    "\n",
    "print(\"\\n Confusion Matrix of Test dataset: \\n\", results_nb)\n",
    "print(\"\\n Accuracy on Test dataset: \", accuracy_score(y_pred, y_test))\n",
    "print(\"\\n Error in Test dataset: \", error)\n",
    "print(\"\\n Model Performance in Test dataset: \\n\",classification_report(y_test, y_pred))"
   ]
  },
  {
   "cell_type": "markdown",
   "metadata": {},
   "source": [
    "<h4> LR </h4>\n",
    "\n",
    "Logistic Regression classifier is a predictive analysis algorithm based on the concept of probability. It can only be used when the target variables are discrete/categorical. When using logistic regression, a threshold must be specified based on which the algorithm can decide whether to put a value into one class or the other.Logistic Regression is actually a Linear Regression model with more complex cost function, known as the ‘Sigmoid function’.The objective of the algorithm is to minimize the cost function so that accuracy will be maximized. To minimize the cost function, a gradient descent function is run on each parameter."
   ]
  },
  {
   "cell_type": "code",
   "execution_count": 30,
   "metadata": {},
   "outputs": [
    {
     "name": "stdout",
     "output_type": "stream",
     "text": [
      "Confusion Matrix of Train dataset: \n",
      " [[39  0  0]\n",
      " [ 0 39  1]\n",
      " [ 0  0 41]]\n",
      "\n",
      " Accuracy on train dataset: 0.9916666666666667\n",
      "\n",
      " Error in Train dataset:  0.008333333333333304\n",
      "\n",
      " Model Performance in Train dataset: \n",
      "               precision    recall  f1-score   support\n",
      "\n",
      "     Class_1       1.00      1.00      1.00        39\n",
      "     Class_2       1.00      0.97      0.99        40\n",
      "     Class_3       0.98      1.00      0.99        41\n",
      "\n",
      "    accuracy                           0.99       120\n",
      "   macro avg       0.99      0.99      0.99       120\n",
      "weighted avg       0.99      0.99      0.99       120\n",
      "\n",
      "\n",
      " Confusion Matrix of Test dataset: \n",
      " [[11  0  0]\n",
      " [ 0  8  2]\n",
      " [ 0  0  9]]\n",
      "\n",
      " Accuracy on Test dataset:  0.9333333333333333\n",
      "\n",
      " Error in Test dataset:  0.06666666666666665\n",
      "\n",
      " Model Performance in Test dataset: \n",
      "               precision    recall  f1-score   support\n",
      "\n",
      "     Class_1       1.00      1.00      1.00        11\n",
      "     Class_2       1.00      0.80      0.89        10\n",
      "     Class_3       0.82      1.00      0.90         9\n",
      "\n",
      "    accuracy                           0.93        30\n",
      "   macro avg       0.94      0.93      0.93        30\n",
      "weighted avg       0.95      0.93      0.93        30\n",
      "\n"
     ]
    }
   ],
   "source": [
    "lr = LogisticRegression()\n",
    "lr.fit(x_train, y_train)\n",
    "y_pred_train = lr.predict(x_train)\n",
    "y_pred = lr.predict(x_test)\n",
    "\n",
    "error_train = zero_one_loss(y_train, y_pred_train)\n",
    "error = zero_one_loss(y_test, y_pred)\n",
    "\n",
    "train_lr = confusion_matrix(y_train, y_pred_train)\n",
    "results_lr = confusion_matrix(y_test, y_pred)\n",
    "\n",
    "print(\"Confusion Matrix of Train dataset: \\n\", train_lr)\n",
    "print(\"\\n Accuracy on train dataset:\", accuracy_score(y_train, y_pred_train))\n",
    "print(\"\\n Error in Train dataset: \", error_train)\n",
    "print(\"\\n Model Performance in Train dataset: \\n\",classification_report(y_train, y_pred_train))\n",
    "\n",
    "print(\"\\n Confusion Matrix of Test dataset: \\n\", results_lr)\n",
    "print(\"\\n Accuracy on Test dataset: \", accuracy_score(y_pred, y_test))\n",
    "print(\"\\n Error in Test dataset: \", error)\n",
    "print(\"\\n Model Performance in Test dataset: \\n\",classification_report(y_test, y_pred))"
   ]
  },
  {
   "cell_type": "markdown",
   "metadata": {},
   "source": [
    "<h4> MLP </h4>\n",
    "\n",
    "Multiple Linear Regression is a commonly used artificial neural network built out of artificial neurons. An artificial neuron simple computational unit that weigh input signals and produce an output signal utilizing an activation function.An MLP learns to model the correlation of input-output pairs by changing the connection weights after each packet of data is processed and compares the amount of error in the output to the expected result.This supervised learning is carried out through backpropagation which is a generalization of the least mean squares algorithm in the linear perceptron, and trains by adjusting the parameters, weights and biases of the model to minimize the error."
   ]
  },
  {
   "cell_type": "code",
   "execution_count": 31,
   "metadata": {},
   "outputs": [
    {
     "name": "stdout",
     "output_type": "stream",
     "text": [
      "Confusion Matrix of Train dataset: \n",
      " [[39  0  0]\n",
      " [ 0 37  3]\n",
      " [ 0  0 41]]\n",
      "\n",
      " Accuracy on train dataset: 0.975\n",
      "\n",
      " Error in Train dataset:  0.025000000000000022\n",
      "\n",
      " Model Performance in Train dataset: \n",
      "               precision    recall  f1-score   support\n",
      "\n",
      "     Class_1       1.00      1.00      1.00        39\n",
      "     Class_2       1.00      0.93      0.96        40\n",
      "     Class_3       0.93      1.00      0.96        41\n",
      "\n",
      "    accuracy                           0.97       120\n",
      "   macro avg       0.98      0.97      0.98       120\n",
      "weighted avg       0.98      0.97      0.97       120\n",
      "\n",
      "\n",
      " Confusion Matrix of Test dataset: \n",
      " [[11  0  0]\n",
      " [ 0  9  1]\n",
      " [ 0  0  9]]\n",
      "\n",
      " Accuracy on Test dataset:  0.9666666666666667\n",
      "\n",
      " Error in Test dataset:  0.033333333333333326\n",
      "\n",
      " Model Performance in Test dataset: \n",
      "               precision    recall  f1-score   support\n",
      "\n",
      "     Class_1       1.00      1.00      1.00        11\n",
      "     Class_2       1.00      0.90      0.95        10\n",
      "     Class_3       0.90      1.00      0.95         9\n",
      "\n",
      "    accuracy                           0.97        30\n",
      "   macro avg       0.97      0.97      0.96        30\n",
      "weighted avg       0.97      0.97      0.97        30\n",
      "\n"
     ]
    }
   ],
   "source": [
    "mlp = MLPClassifier(random_state=3)\n",
    "mlp.fit(x_train, y_train)\n",
    "y_pred_train = mlp.predict(x_train)\n",
    "y_pred = mlp.predict(x_test)\n",
    "\n",
    "error_train = zero_one_loss(y_train, y_pred_train)\n",
    "error = zero_one_loss(y_test, y_pred)\n",
    "\n",
    "train_mlp = confusion_matrix(y_train, y_pred_train)\n",
    "results_mlp = confusion_matrix(y_test, y_pred)\n",
    "\n",
    "print(\"Confusion Matrix of Train dataset: \\n\", train_mlp)\n",
    "print(\"\\n Accuracy on train dataset:\", accuracy_score(y_train, y_pred_train))\n",
    "print(\"\\n Error in Train dataset: \", error_train)\n",
    "print(\"\\n Model Performance in Train dataset: \\n\",classification_report(y_train, y_pred_train))\n",
    "\n",
    "print(\"\\n Confusion Matrix of Test dataset: \\n\", results_mlp)\n",
    "print(\"\\n Accuracy on Test dataset: \", accuracy_score(y_pred, y_test))\n",
    "print(\"\\n Error in Test dataset: \", error)\n",
    "print(\"\\n Model Performance in Test dataset: \\n\",classification_report(y_test, y_pred))"
   ]
  }
 ],
 "metadata": {
  "kernelspec": {
   "display_name": "Python 3",
   "language": "python",
   "name": "python3"
  },
  "language_info": {
   "codemirror_mode": {
    "name": "ipython",
    "version": 3
   },
   "file_extension": ".py",
   "mimetype": "text/x-python",
   "name": "python",
   "nbconvert_exporter": "python",
   "pygments_lexer": "ipython3",
   "version": "3.8.3"
  },
  "nbTranslate": {
   "displayLangs": [
    "*"
   ],
   "hotkey": "alt-t",
   "langInMainMenu": true,
   "sourceLang": "en",
   "targetLang": "fr",
   "useGoogleTranslate": true
  }
 },
 "nbformat": 4,
 "nbformat_minor": 4
}
