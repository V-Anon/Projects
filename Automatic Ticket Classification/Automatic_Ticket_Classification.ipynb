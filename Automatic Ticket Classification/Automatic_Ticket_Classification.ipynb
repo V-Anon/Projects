{
 "cells": [
  {
   "cell_type": "markdown",
   "metadata": {
    "id": "rhR-ZUkwJrFn"
   },
   "source": [
    "## Problem Statement \n",
    "\n",
    "You need to build a model that is able to classify customer complaints based on the products/services. By doing so, you can segregate these tickets into their relevant categories and, therefore, help in the quick resolution of the issue.\n",
    "\n",
    "You will be doing topic modelling on the <b>.json</b> data provided by the company. Since this data is not labelled, you need to apply NMF to analyse patterns and classify tickets into the following five clusters based on their products/services:\n",
    "\n",
    "* Credit card / Prepaid card\n",
    "\n",
    "* Bank account services\n",
    "\n",
    "* Theft/Dispute reporting\n",
    "\n",
    "* Mortgages/loans\n",
    "\n",
    "* Others \n",
    "\n",
    "\n",
    "With the help of topic modelling, you will be able to map each ticket onto its respective department/category. You can then use this data to train any supervised model such as logistic regression, decision tree or random forest. Using this trained model, you can classify any new customer complaint support ticket into its relevant department."
   ]
  },
  {
   "cell_type": "markdown",
   "metadata": {
    "id": "mcgXVNyaLUFS"
   },
   "source": [
    "## Pipelines that needs to be performed:\n",
    "\n",
    "You need to perform the following eight major tasks to complete the assignment:\n",
    "\n",
    "1.  Data loading\n",
    "\n",
    "2. Text preprocessing\n",
    "\n",
    "3. Exploratory data analysis (EDA)\n",
    "\n",
    "4. Feature extraction\n",
    "\n",
    "5. Topic modelling \n",
    "\n",
    "6. Model building using supervised learning\n",
    "\n",
    "7. Model training and evaluation\n",
    "\n",
    "8. Model inference"
   ]
  },
  {
   "cell_type": "markdown",
   "metadata": {
    "id": "JuLFIymAL58u"
   },
   "source": [
    "## Importing the necessary libraries"
   ]
  },
  {
   "cell_type": "code",
   "execution_count": 1,
   "metadata": {
    "id": "O-Q9pqrcJrFr"
   },
   "outputs": [
    {
     "name": "stderr",
     "output_type": "stream",
     "text": [
      "[nltk_data] Error loading wordnet: <urlopen error [WinError 10060] A\n",
      "[nltk_data]     connection attempt failed because the connected party\n",
      "[nltk_data]     did not properly respond after a period of time, or\n",
      "[nltk_data]     established connection failed because connected host\n",
      "[nltk_data]     has failed to respond>\n",
      "[nltk_data] Error loading omw-1.4: <urlopen error [WinError 10060] A\n",
      "[nltk_data]     connection attempt failed because the connected party\n",
      "[nltk_data]     did not properly respond after a period of time, or\n",
      "[nltk_data]     established connection failed because connected host\n",
      "[nltk_data]     has failed to respond>\n",
      "[nltk_data] Error loading averaged_perceptron_tagger: <urlopen error\n",
      "[nltk_data]     [WinError 10060] A connection attempt failed because\n",
      "[nltk_data]     the connected party did not properly respond after a\n",
      "[nltk_data]     period of time, or established connection failed\n",
      "[nltk_data]     because connected host has failed to respond>\n"
     ]
    }
   ],
   "source": [
    "import json \n",
    "import numpy as np\n",
    "import pandas as pd\n",
    "pd.set_option('display.max_colwidth', None)\n",
    "pd.set_option('display.max_columns', None)\n",
    "import re, nltk, spacy, string\n",
    "import en_core_web_sm\n",
    "nlp = en_core_web_sm.load()\n",
    "import seaborn as sns\n",
    "import matplotlib.pyplot as plt\n",
    "%matplotlib inline\n",
    "\n",
    "from plotly.offline import plot\n",
    "import plotly.graph_objects as go\n",
    "import plotly.express as px\n",
    "\n",
    "from sklearn.feature_extraction.text import CountVectorizer, TfidfVectorizer, TfidfTransformer\n",
    "from pprint import pprint\n",
    "from wordcloud import WordCloud, STOPWORDS\n",
    "\n",
    "\n",
    "from sklearn.model_selection import train_test_split, GridSearchCV, RandomizedSearchCV\n",
    "from sklearn.naive_bayes import MultinomialNB\n",
    "from sklearn.linear_model import LogisticRegression\n",
    "from sklearn.tree import DecisionTreeClassifier\n",
    "from sklearn.ensemble import RandomForestClassifier\n",
    "from sklearn.svm import SVC\n",
    "from sklearn.decomposition import NMF\n",
    "from sklearn.metrics import confusion_matrix, f1_score, classification_report\n",
    "from sklearn.decomposition import NMF\n",
    "from sklearn.model_selection import RepeatedStratifiedKFold\n",
    "\n",
    "from nltk.stem import WordNetLemmatizer\n",
    "from nltk.tokenize import word_tokenize\n",
    "import nltk\n",
    "nltk.download('wordnet')\n",
    "nltk.download('omw-1.4')\n",
    "nltk.download('averaged_perceptron_tagger')\n",
    "\n",
    "import warnings\n",
    "warnings.filterwarnings('ignore')"
   ]
  },
  {
   "cell_type": "markdown",
   "metadata": {
    "id": "KtRLCsNVJrFt"
   },
   "source": [
    "## Loading the data\n",
    "\n",
    "The data is in JSON format and we need to convert it to a dataframe."
   ]
  },
  {
   "cell_type": "code",
   "execution_count": 2,
   "metadata": {
    "id": "puVzIf_iJrFt"
   },
   "outputs": [],
   "source": [
    "# Opening JSON file \n",
    "f = open('complaints-2021-05-14_08_16.json')# Write the path to your data file and load it \n",
    "  \n",
    "# returns JSON object as  \n",
    "# a dictionary \n",
    "data = json.load(f)\n",
    "df=pd.json_normalize(data)"
   ]
  },
  {
   "cell_type": "markdown",
   "metadata": {
    "id": "_xYpH-sAJrFu"
   },
   "source": [
    "## Data preparation"
   ]
  },
  {
   "cell_type": "code",
   "execution_count": 3,
   "metadata": {
    "id": "Lf8ufHH5JrFu"
   },
   "outputs": [
    {
     "data": {
      "text/html": [
       "<div>\n",
       "<style scoped>\n",
       "    .dataframe tbody tr th:only-of-type {\n",
       "        vertical-align: middle;\n",
       "    }\n",
       "\n",
       "    .dataframe tbody tr th {\n",
       "        vertical-align: top;\n",
       "    }\n",
       "\n",
       "    .dataframe thead th {\n",
       "        text-align: right;\n",
       "    }\n",
       "</style>\n",
       "<table border=\"1\" class=\"dataframe\">\n",
       "  <thead>\n",
       "    <tr style=\"text-align: right;\">\n",
       "      <th></th>\n",
       "      <th>_index</th>\n",
       "      <th>_type</th>\n",
       "      <th>_id</th>\n",
       "      <th>_score</th>\n",
       "      <th>_source.tags</th>\n",
       "      <th>_source.zip_code</th>\n",
       "      <th>_source.complaint_id</th>\n",
       "      <th>_source.issue</th>\n",
       "      <th>_source.date_received</th>\n",
       "      <th>_source.state</th>\n",
       "      <th>_source.consumer_disputed</th>\n",
       "      <th>_source.product</th>\n",
       "      <th>_source.company_response</th>\n",
       "      <th>_source.company</th>\n",
       "      <th>_source.submitted_via</th>\n",
       "      <th>_source.date_sent_to_company</th>\n",
       "      <th>_source.company_public_response</th>\n",
       "      <th>_source.sub_product</th>\n",
       "      <th>_source.timely</th>\n",
       "      <th>_source.complaint_what_happened</th>\n",
       "      <th>_source.sub_issue</th>\n",
       "      <th>_source.consumer_consent_provided</th>\n",
       "    </tr>\n",
       "  </thead>\n",
       "  <tbody>\n",
       "    <tr>\n",
       "      <th>0</th>\n",
       "      <td>complaint-public-v2</td>\n",
       "      <td>complaint</td>\n",
       "      <td>3211475</td>\n",
       "      <td>0.0</td>\n",
       "      <td>None</td>\n",
       "      <td>90301</td>\n",
       "      <td>3211475</td>\n",
       "      <td>Attempts to collect debt not owed</td>\n",
       "      <td>2019-04-13T12:00:00-05:00</td>\n",
       "      <td>CA</td>\n",
       "      <td>N/A</td>\n",
       "      <td>Debt collection</td>\n",
       "      <td>Closed with explanation</td>\n",
       "      <td>JPMORGAN CHASE &amp; CO.</td>\n",
       "      <td>Web</td>\n",
       "      <td>2019-04-13T12:00:00-05:00</td>\n",
       "      <td>None</td>\n",
       "      <td>Credit card debt</td>\n",
       "      <td>Yes</td>\n",
       "      <td></td>\n",
       "      <td>Debt is not yours</td>\n",
       "      <td>Consent not provided</td>\n",
       "    </tr>\n",
       "    <tr>\n",
       "      <th>1</th>\n",
       "      <td>complaint-public-v2</td>\n",
       "      <td>complaint</td>\n",
       "      <td>3229299</td>\n",
       "      <td>0.0</td>\n",
       "      <td>Servicemember</td>\n",
       "      <td>319XX</td>\n",
       "      <td>3229299</td>\n",
       "      <td>Written notification about debt</td>\n",
       "      <td>2019-05-01T12:00:00-05:00</td>\n",
       "      <td>GA</td>\n",
       "      <td>N/A</td>\n",
       "      <td>Debt collection</td>\n",
       "      <td>Closed with explanation</td>\n",
       "      <td>JPMORGAN CHASE &amp; CO.</td>\n",
       "      <td>Web</td>\n",
       "      <td>2019-05-01T12:00:00-05:00</td>\n",
       "      <td>None</td>\n",
       "      <td>Credit card debt</td>\n",
       "      <td>Yes</td>\n",
       "      <td>Good morning my name is XXXX XXXX and I appreciate it if you could help me put a stop to Chase Bank cardmember services. \\nIn 2018 I wrote to Chase asking for debt verification and what they sent me a statement which is not acceptable. I am asking the bank to validate the debt. Instead I been receiving mail every month from them attempting to collect a debt. \\nI have a right to know this information as a consumer. \\n\\nChase account # XXXX XXXX XXXX XXXX Thanks in advance for your help.</td>\n",
       "      <td>Didn't receive enough information to verify debt</td>\n",
       "      <td>Consent provided</td>\n",
       "    </tr>\n",
       "    <tr>\n",
       "      <th>2</th>\n",
       "      <td>complaint-public-v2</td>\n",
       "      <td>complaint</td>\n",
       "      <td>3199379</td>\n",
       "      <td>0.0</td>\n",
       "      <td>None</td>\n",
       "      <td>77069</td>\n",
       "      <td>3199379</td>\n",
       "      <td>Other features, terms, or problems</td>\n",
       "      <td>2019-04-02T12:00:00-05:00</td>\n",
       "      <td>TX</td>\n",
       "      <td>N/A</td>\n",
       "      <td>Credit card or prepaid card</td>\n",
       "      <td>Closed with explanation</td>\n",
       "      <td>JPMORGAN CHASE &amp; CO.</td>\n",
       "      <td>Web</td>\n",
       "      <td>2019-04-02T12:00:00-05:00</td>\n",
       "      <td>None</td>\n",
       "      <td>General-purpose credit card or charge card</td>\n",
       "      <td>Yes</td>\n",
       "      <td>I upgraded my XXXX XXXX card in XX/XX/2018 and was told by the agent who did the upgrade my anniversary date would not change. It turned the agent was giving me the wrong information in order to upgrade the account. XXXX   changed my anniversary date from XX/XX/XXXX to XX/XX/XXXX without my consent! XXXX has the recording of the agent who was misled me.</td>\n",
       "      <td>Problem with rewards from credit card</td>\n",
       "      <td>Consent provided</td>\n",
       "    </tr>\n",
       "    <tr>\n",
       "      <th>3</th>\n",
       "      <td>complaint-public-v2</td>\n",
       "      <td>complaint</td>\n",
       "      <td>2673060</td>\n",
       "      <td>0.0</td>\n",
       "      <td>None</td>\n",
       "      <td>48066</td>\n",
       "      <td>2673060</td>\n",
       "      <td>Trouble during payment process</td>\n",
       "      <td>2017-09-13T12:00:00-05:00</td>\n",
       "      <td>MI</td>\n",
       "      <td>N/A</td>\n",
       "      <td>Mortgage</td>\n",
       "      <td>Closed with explanation</td>\n",
       "      <td>JPMORGAN CHASE &amp; CO.</td>\n",
       "      <td>Web</td>\n",
       "      <td>2017-09-14T12:00:00-05:00</td>\n",
       "      <td>None</td>\n",
       "      <td>Conventional home mortgage</td>\n",
       "      <td>Yes</td>\n",
       "      <td></td>\n",
       "      <td>None</td>\n",
       "      <td>Consent not provided</td>\n",
       "    </tr>\n",
       "    <tr>\n",
       "      <th>4</th>\n",
       "      <td>complaint-public-v2</td>\n",
       "      <td>complaint</td>\n",
       "      <td>3203545</td>\n",
       "      <td>0.0</td>\n",
       "      <td>None</td>\n",
       "      <td>10473</td>\n",
       "      <td>3203545</td>\n",
       "      <td>Fees or interest</td>\n",
       "      <td>2019-04-05T12:00:00-05:00</td>\n",
       "      <td>NY</td>\n",
       "      <td>N/A</td>\n",
       "      <td>Credit card or prepaid card</td>\n",
       "      <td>Closed with explanation</td>\n",
       "      <td>JPMORGAN CHASE &amp; CO.</td>\n",
       "      <td>Referral</td>\n",
       "      <td>2019-04-05T12:00:00-05:00</td>\n",
       "      <td>None</td>\n",
       "      <td>General-purpose credit card or charge card</td>\n",
       "      <td>Yes</td>\n",
       "      <td></td>\n",
       "      <td>Charged too much interest</td>\n",
       "      <td>N/A</td>\n",
       "    </tr>\n",
       "  </tbody>\n",
       "</table>\n",
       "</div>"
      ],
      "text/plain": [
       "                _index      _type      _id  _score   _source.tags  \\\n",
       "0  complaint-public-v2  complaint  3211475     0.0           None   \n",
       "1  complaint-public-v2  complaint  3229299     0.0  Servicemember   \n",
       "2  complaint-public-v2  complaint  3199379     0.0           None   \n",
       "3  complaint-public-v2  complaint  2673060     0.0           None   \n",
       "4  complaint-public-v2  complaint  3203545     0.0           None   \n",
       "\n",
       "  _source.zip_code _source.complaint_id                       _source.issue  \\\n",
       "0            90301              3211475   Attempts to collect debt not owed   \n",
       "1            319XX              3229299     Written notification about debt   \n",
       "2            77069              3199379  Other features, terms, or problems   \n",
       "3            48066              2673060      Trouble during payment process   \n",
       "4            10473              3203545                    Fees or interest   \n",
       "\n",
       "       _source.date_received _source.state _source.consumer_disputed  \\\n",
       "0  2019-04-13T12:00:00-05:00            CA                       N/A   \n",
       "1  2019-05-01T12:00:00-05:00            GA                       N/A   \n",
       "2  2019-04-02T12:00:00-05:00            TX                       N/A   \n",
       "3  2017-09-13T12:00:00-05:00            MI                       N/A   \n",
       "4  2019-04-05T12:00:00-05:00            NY                       N/A   \n",
       "\n",
       "               _source.product _source.company_response       _source.company  \\\n",
       "0              Debt collection  Closed with explanation  JPMORGAN CHASE & CO.   \n",
       "1              Debt collection  Closed with explanation  JPMORGAN CHASE & CO.   \n",
       "2  Credit card or prepaid card  Closed with explanation  JPMORGAN CHASE & CO.   \n",
       "3                     Mortgage  Closed with explanation  JPMORGAN CHASE & CO.   \n",
       "4  Credit card or prepaid card  Closed with explanation  JPMORGAN CHASE & CO.   \n",
       "\n",
       "  _source.submitted_via _source.date_sent_to_company  \\\n",
       "0                   Web    2019-04-13T12:00:00-05:00   \n",
       "1                   Web    2019-05-01T12:00:00-05:00   \n",
       "2                   Web    2019-04-02T12:00:00-05:00   \n",
       "3                   Web    2017-09-14T12:00:00-05:00   \n",
       "4              Referral    2019-04-05T12:00:00-05:00   \n",
       "\n",
       "  _source.company_public_response                         _source.sub_product  \\\n",
       "0                            None                            Credit card debt   \n",
       "1                            None                            Credit card debt   \n",
       "2                            None  General-purpose credit card or charge card   \n",
       "3                            None                  Conventional home mortgage   \n",
       "4                            None  General-purpose credit card or charge card   \n",
       "\n",
       "  _source.timely  \\\n",
       "0            Yes   \n",
       "1            Yes   \n",
       "2            Yes   \n",
       "3            Yes   \n",
       "4            Yes   \n",
       "\n",
       "                                                                                                                                                                                                                                                                                                                                                                                                                                                                              _source.complaint_what_happened  \\\n",
       "0                                                                                                                                                                                                                                                                                                                                                                                                                                                                                                               \n",
       "1  Good morning my name is XXXX XXXX and I appreciate it if you could help me put a stop to Chase Bank cardmember services. \\nIn 2018 I wrote to Chase asking for debt verification and what they sent me a statement which is not acceptable. I am asking the bank to validate the debt. Instead I been receiving mail every month from them attempting to collect a debt. \\nI have a right to know this information as a consumer. \\n\\nChase account # XXXX XXXX XXXX XXXX Thanks in advance for your help.   \n",
       "2                                                                                                                                         I upgraded my XXXX XXXX card in XX/XX/2018 and was told by the agent who did the upgrade my anniversary date would not change. It turned the agent was giving me the wrong information in order to upgrade the account. XXXX   changed my anniversary date from XX/XX/XXXX to XX/XX/XXXX without my consent! XXXX has the recording of the agent who was misled me.   \n",
       "3                                                                                                                                                                                                                                                                                                                                                                                                                                                                                                               \n",
       "4                                                                                                                                                                                                                                                                                                                                                                                                                                                                                                               \n",
       "\n",
       "                                  _source.sub_issue  \\\n",
       "0                                 Debt is not yours   \n",
       "1  Didn't receive enough information to verify debt   \n",
       "2             Problem with rewards from credit card   \n",
       "3                                              None   \n",
       "4                         Charged too much interest   \n",
       "\n",
       "  _source.consumer_consent_provided  \n",
       "0              Consent not provided  \n",
       "1                  Consent provided  \n",
       "2                  Consent provided  \n",
       "3              Consent not provided  \n",
       "4                               N/A  "
      ]
     },
     "execution_count": 3,
     "metadata": {},
     "output_type": "execute_result"
    }
   ],
   "source": [
    "# Inspect the dataframe to understand the given data.\n",
    "df.head()"
   ]
  },
  {
   "cell_type": "code",
   "execution_count": 4,
   "metadata": {},
   "outputs": [
    {
     "name": "stdout",
     "output_type": "stream",
     "text": [
      "<class 'pandas.core.frame.DataFrame'>\n",
      "RangeIndex: 78313 entries, 0 to 78312\n",
      "Data columns (total 22 columns):\n",
      " #   Column                             Non-Null Count  Dtype  \n",
      "---  ------                             --------------  -----  \n",
      " 0   _index                             78313 non-null  object \n",
      " 1   _type                              78313 non-null  object \n",
      " 2   _id                                78313 non-null  object \n",
      " 3   _score                             78313 non-null  float64\n",
      " 4   _source.tags                       10900 non-null  object \n",
      " 5   _source.zip_code                   71556 non-null  object \n",
      " 6   _source.complaint_id               78313 non-null  object \n",
      " 7   _source.issue                      78313 non-null  object \n",
      " 8   _source.date_received              78313 non-null  object \n",
      " 9   _source.state                      76322 non-null  object \n",
      " 10  _source.consumer_disputed          78313 non-null  object \n",
      " 11  _source.product                    78313 non-null  object \n",
      " 12  _source.company_response           78313 non-null  object \n",
      " 13  _source.company                    78313 non-null  object \n",
      " 14  _source.submitted_via              78313 non-null  object \n",
      " 15  _source.date_sent_to_company       78313 non-null  object \n",
      " 16  _source.company_public_response    4 non-null      object \n",
      " 17  _source.sub_product                67742 non-null  object \n",
      " 18  _source.timely                     78313 non-null  object \n",
      " 19  _source.complaint_what_happened    78313 non-null  object \n",
      " 20  _source.sub_issue                  32016 non-null  object \n",
      " 21  _source.consumer_consent_provided  77305 non-null  object \n",
      "dtypes: float64(1), object(21)\n",
      "memory usage: 13.1+ MB\n"
     ]
    }
   ],
   "source": [
    "df.info()"
   ]
  },
  {
   "cell_type": "code",
   "execution_count": 5,
   "metadata": {},
   "outputs": [
    {
     "data": {
      "text/plain": [
       "(78313, 22)"
      ]
     },
     "execution_count": 5,
     "metadata": {},
     "output_type": "execute_result"
    }
   ],
   "source": [
    "df.shape"
   ]
  },
  {
   "cell_type": "code",
   "execution_count": 6,
   "metadata": {
    "id": "Dwcty-wmJrFw"
   },
   "outputs": [
    {
     "data": {
      "text/plain": [
       "Index(['_index', '_type', '_id', '_score', '_source.tags', '_source.zip_code',\n",
       "       '_source.complaint_id', '_source.issue', '_source.date_received',\n",
       "       '_source.state', '_source.consumer_disputed', '_source.product',\n",
       "       '_source.company_response', '_source.company', '_source.submitted_via',\n",
       "       '_source.date_sent_to_company', '_source.company_public_response',\n",
       "       '_source.sub_product', '_source.timely',\n",
       "       '_source.complaint_what_happened', '_source.sub_issue',\n",
       "       '_source.consumer_consent_provided'],\n",
       "      dtype='object')"
      ]
     },
     "execution_count": 6,
     "metadata": {},
     "output_type": "execute_result"
    }
   ],
   "source": [
    "#print the column names\n",
    "df.columns"
   ]
  },
  {
   "cell_type": "code",
   "execution_count": 7,
   "metadata": {
    "id": "FYCtKXD1JrFw"
   },
   "outputs": [
    {
     "data": {
      "text/plain": [
       "Index(['index', 'type', 'id', 'score', 'tags', 'zipcode', 'complaintid',\n",
       "       'issue', 'datereceived', 'state', 'consumerdisputed', 'product',\n",
       "       'companyresponse', 'company', 'submittedvia', 'datesenttocompany',\n",
       "       'companypublicresponse', 'subproduct', 'timely',\n",
       "       'complaintwhathappened', 'subissue', 'consumerconsentprovided'],\n",
       "      dtype='object')"
      ]
     },
     "execution_count": 7,
     "metadata": {},
     "output_type": "execute_result"
    }
   ],
   "source": [
    "#Assign new column names\n",
    "df.columns = df.columns.str.replace('_source.', '')\n",
    "df.columns = df.columns.str.replace('_', '')\n",
    "df.columns"
   ]
  },
  {
   "cell_type": "code",
   "execution_count": 8,
   "metadata": {
    "id": "grQUPFL5JrFx"
   },
   "outputs": [
    {
     "data": {
      "text/plain": [
       "Int64Index([    0,     3,     4,     5,     6,     7,     8,     9,    12,\n",
       "               13,\n",
       "            ...\n",
       "            78292, 78298, 78299, 78300, 78302, 78304, 78305, 78306, 78307,\n",
       "            78308],\n",
       "           dtype='int64', length=57241)"
      ]
     },
     "execution_count": 8,
     "metadata": {},
     "output_type": "execute_result"
    }
   ],
   "source": [
    "#Assign nan in place of blanks in the complaints column\n",
    "df[df['complaintwhathappened'] == ''].index"
   ]
  },
  {
   "cell_type": "markdown",
   "metadata": {},
   "source": [
    "There are 57241 rown in the complaints column with blanks, replacing it with nan."
   ]
  },
  {
   "cell_type": "code",
   "execution_count": 9,
   "metadata": {},
   "outputs": [
    {
     "data": {
      "text/plain": [
       "Int64Index([], dtype='int64')"
      ]
     },
     "execution_count": 9,
     "metadata": {},
     "output_type": "execute_result"
    }
   ],
   "source": [
    "df['complaintwhathappened'].replace('', np.nan, inplace = True)\n",
    "df[df['complaintwhathappened'] == ''].index"
   ]
  },
  {
   "cell_type": "markdown",
   "metadata": {},
   "source": [
    "All blanks are replaced with NaN"
   ]
  },
  {
   "cell_type": "code",
   "execution_count": 10,
   "metadata": {},
   "outputs": [
    {
     "data": {
      "text/plain": [
       "(78313, 22)"
      ]
     },
     "execution_count": 10,
     "metadata": {},
     "output_type": "execute_result"
    }
   ],
   "source": [
    "df.shape"
   ]
  },
  {
   "cell_type": "code",
   "execution_count": 11,
   "metadata": {
    "id": "Jfxd8VSmJrFy"
   },
   "outputs": [],
   "source": [
    "#Remove all rows where complaints column is nan\n",
    "df = df[df['complaintwhathappened'].notna()]"
   ]
  },
  {
   "cell_type": "code",
   "execution_count": 12,
   "metadata": {},
   "outputs": [
    {
     "data": {
      "text/plain": [
       "(21072, 22)"
      ]
     },
     "execution_count": 12,
     "metadata": {},
     "output_type": "execute_result"
    }
   ],
   "source": [
    "df.shape"
   ]
  },
  {
   "cell_type": "markdown",
   "metadata": {
    "id": "L944HZpsJrFy"
   },
   "source": [
    "## Prepare the text for topic modeling\n",
    "\n",
    "Once you have removed all the blank complaints, you need to:\n",
    "\n",
    "* Make the text lowercase\n",
    "* Remove text in square brackets\n",
    "* Remove punctuation\n",
    "* Remove words containing numbers\n",
    "\n",
    "\n",
    "Once you have done these cleaning operations you need to perform the following:\n",
    "* Lemmatize the texts\n",
    "* Extract the POS tags of the lemmatized text and remove all the words which have tags other than NN[tag == \"NN\"].\n"
   ]
  },
  {
   "cell_type": "code",
   "execution_count": 13,
   "metadata": {
    "id": "qm7SjjSkJrFz"
   },
   "outputs": [],
   "source": [
    "# Write your function here to clean the text and remove all the unnecessary elements.\n",
    "# Making text lowercase\n",
    "df['complaintwhathappened'] = df['complaintwhathappened'].str.lower()\n",
    "# Removing the text in square brackets\n",
    "df['complaintwhathappened'] = df['complaintwhathappened'].str.replace(r'[\\[].*?[\\]]','',regex=True)\n",
    "#Removing punctuation\n",
    "df['complaintwhathappened'] = df['complaintwhathappened'].str.replace('[^\\(\\)\\w\\s]','',regex= True)\n",
    "#Removing words containing numbers\n",
    "df['complaintwhathappened'] = df['complaintwhathappened'].str.replace('\\w*\\d\\w*','',regex=True)"
   ]
  },
  {
   "cell_type": "code",
   "execution_count": 14,
   "metadata": {
    "id": "zgOu8t8HJrFz"
   },
   "outputs": [],
   "source": [
    "#Write your function to Lemmatize the texts\n",
    "ticket = nltk.stem.WordNetLemmatizer()\n",
    "\n",
    "def lemmatize(text):\n",
    "    return \" \".join([ticket.lemmatize(w) for w in word_tokenize(text)])\n",
    "\n",
    "df['complaints_lemmatized'] = df.complaintwhathappened.apply(lemmatize)"
   ]
  },
  {
   "cell_type": "code",
   "execution_count": 15,
   "metadata": {
    "id": "uXnN7aa_JrF0"
   },
   "outputs": [],
   "source": [
    "#Create a dataframe('df_clean') that will have only the complaints and the lemmatized complaints \n",
    "df_clean = pd.DataFrame(df,columns=['complaintwhathappened','complaints_lemmatized'])"
   ]
  },
  {
   "cell_type": "code",
   "execution_count": 16,
   "metadata": {
    "id": "nOiDVvEIJrF0"
   },
   "outputs": [
    {
     "data": {
      "text/html": [
       "<div>\n",
       "<style scoped>\n",
       "    .dataframe tbody tr th:only-of-type {\n",
       "        vertical-align: middle;\n",
       "    }\n",
       "\n",
       "    .dataframe tbody tr th {\n",
       "        vertical-align: top;\n",
       "    }\n",
       "\n",
       "    .dataframe thead th {\n",
       "        text-align: right;\n",
       "    }\n",
       "</style>\n",
       "<table border=\"1\" class=\"dataframe\">\n",
       "  <thead>\n",
       "    <tr style=\"text-align: right;\">\n",
       "      <th></th>\n",
       "      <th>complaintwhathappened</th>\n",
       "      <th>complaints_lemmatized</th>\n",
       "    </tr>\n",
       "  </thead>\n",
       "  <tbody>\n",
       "    <tr>\n",
       "      <th>1</th>\n",
       "      <td>good morning my name is xxxx xxxx and i appreciate it if you could help me put a stop to chase bank cardmember services \\nin  i wrote to chase asking for debt verification and what they sent me a statement which is not acceptable i am asking the bank to validate the debt instead i been receiving mail every month from them attempting to collect a debt \\ni have a right to know this information as a consumer \\n\\nchase account  xxxx xxxx xxxx xxxx thanks in advance for your help</td>\n",
       "      <td>good morning my name is xxxx xxxx and i appreciate it if you could help me put a stop to chase bank cardmember service in i wrote to chase asking for debt verification and what they sent me a statement which is not acceptable i am asking the bank to validate the debt instead i been receiving mail every month from them attempting to collect a debt i have a right to know this information a a consumer chase account xxxx xxxx xxxx xxxx thanks in advance for your help</td>\n",
       "    </tr>\n",
       "    <tr>\n",
       "      <th>2</th>\n",
       "      <td>i upgraded my xxxx xxxx card in  and was told by the agent who did the upgrade my anniversary date would not change it turned the agent was giving me the wrong information in order to upgrade the account xxxx   changed my anniversary date from xxxxxxxx to xxxxxxxx without my consent xxxx has the recording of the agent who was misled me</td>\n",
       "      <td>i upgraded my xxxx xxxx card in and wa told by the agent who did the upgrade my anniversary date would not change it turned the agent wa giving me the wrong information in order to upgrade the account xxxx changed my anniversary date from xxxxxxxx to xxxxxxxx without my consent xxxx ha the recording of the agent who wa misled me</td>\n",
       "    </tr>\n",
       "    <tr>\n",
       "      <th>10</th>\n",
       "      <td>chase card was reported on  however fraudulent application have been submitted my identity without my consent to fraudulently obtain services do not extend credit without verifying the identity of the applicant</td>\n",
       "      <td>chase card wa reported on however fraudulent application have been submitted my identity without my consent to fraudulently obtain service do not extend credit without verifying the identity of the applicant</td>\n",
       "    </tr>\n",
       "    <tr>\n",
       "      <th>11</th>\n",
       "      <td>on  while trying to book a xxxx  xxxx  ticket i came across an offer for  to be applied towards the ticket if i applied for a rewards card i put in my information for the offer and within less than a minute was notified via the screen that a decision could not be made i immediately contacted xxxx and was referred to chase bank i then immediately contacted chase bank within no more than  of getting the notification on the screen and i was told by the chase representative i spoke with that my application was denied but she could not state why i asked for more information about the xxxx  offer and she explained that even if i had been approved the credit offer only gets applied after the first account statement and could not be used to purchase the ticket i then explicitly told her i was glad i got denied and i was absolutely no longer interested in the account i asked that the application be withdrawn and the representative obliged this all happened no later than  after putting in the application on  notwithstanding my explicit request not to proceed with the application and contrary to what i was told by the chase representative chase did in fact go ahead to open a credit account in my name on  this is now being reported in my credit report and chase has refused to correct this information on my credit report even though they went ahead to process an application which i did not consent to and out of their error</td>\n",
       "      <td>on while trying to book a xxxx xxxx ticket i came across an offer for to be applied towards the ticket if i applied for a reward card i put in my information for the offer and within le than a minute wa notified via the screen that a decision could not be made i immediately contacted xxxx and wa referred to chase bank i then immediately contacted chase bank within no more than of getting the notification on the screen and i wa told by the chase representative i spoke with that my application wa denied but she could not state why i asked for more information about the xxxx offer and she explained that even if i had been approved the credit offer only get applied after the first account statement and could not be used to purchase the ticket i then explicitly told her i wa glad i got denied and i wa absolutely no longer interested in the account i asked that the application be withdrawn and the representative obliged this all happened no later than after putting in the application on notwithstanding my explicit request not to proceed with the application and contrary to what i wa told by the chase representative chase did in fact go ahead to open a credit account in my name on this is now being reported in my credit report and chase ha refused to correct this information on my credit report even though they went ahead to process an application which i did not consent to and out of their error</td>\n",
       "    </tr>\n",
       "    <tr>\n",
       "      <th>14</th>\n",
       "      <td>my grand son give me check for  i deposit it into my chase account after fund clear my chase bank closed my account never paid me my money they said they need to speek with my grand son check was clear money was taking by my chase bank refuse to pay me my money my grand son called chase  times they told him i should call not him to verify the check owner he is out the country most the time  date happen  check number xxxx claim number is xxxx with chase</td>\n",
       "      <td>my grand son give me check for i deposit it into my chase account after fund clear my chase bank closed my account never paid me my money they said they need to speek with my grand son check wa clear money wa taking by my chase bank refuse to pay me my money my grand son called chase time they told him i should call not him to verify the check owner he is out the country most the time date happen check number xxxx claim number is xxxx with chase</td>\n",
       "    </tr>\n",
       "    <tr>\n",
       "      <th>...</th>\n",
       "      <td>...</td>\n",
       "      <td>...</td>\n",
       "    </tr>\n",
       "    <tr>\n",
       "      <th>78303</th>\n",
       "      <td>after being a chase card customer for well over a decade was offered multiple solicitations for acquiring new credit cards with chase  all with bonus airline miles and hotel points was approved for all (  ) new cards with no annual fee for  year after less than  months with payment always paid as agreed chase closed all my cards one of my (  ) approved new cards was never activated but was sent to me\\n\\nchase has done harm to my credit has charged me an annual fee even though they cancelled my account failed to credit my points for both airlines and hotel failed to credit up to  for xxxx enrollment and failed to credit airline charge as agreed upon</td>\n",
       "      <td>after being a chase card customer for well over a decade wa offered multiple solicitation for acquiring new credit card with chase all with bonus airline mile and hotel point wa approved for all ( ) new card with no annual fee for year after le than month with payment always paid a agreed chase closed all my card one of my ( ) approved new card wa never activated but wa sent to me chase ha done harm to my credit ha charged me an annual fee even though they cancelled my account failed to credit my point for both airline and hotel failed to credit up to for xxxx enrollment and failed to credit airline charge a agreed upon</td>\n",
       "    </tr>\n",
       "    <tr>\n",
       "      <th>78309</th>\n",
       "      <td>on wednesday xxxxxxxx i called chas my xxxx xxxx visa credit card provider and asked how to make a claim under their purchase protection benefit on xxxxxxxx i purchased three high school textbooks for my xxxx year old daughter because she transferred to a new school all three books were damaged when a water bottle in her backpack broke the chase representative assured me the textbooks would be covered and instructed me to file a claim at xxxx i immediately went to the website and filed the claim including uploading all of the requested paperwork which included a copy of my credit card statement copies of the three receipts and photographic evidence of the damage the website even had  books  as one of the catagories i could list as the type of item they cover and that i could make a claim on after following up repeatedly on my claim since the insurance provider failed to  review my information and contact me within  business days to outline the next steps of the process  as outlined in an email i received acknowledging my claim submission i called to complain the representative said claims are not looked at by an examiner  for eight to ten days  and then it would take  two days to actually review the claim  i responded that this information was contradictory to the information provided in writing in the email xxxx sent to me and she said that she is not an adjuster and that is how it works i then asked to speak with an adjuster and she agreed to connect me to one i was then put on hold and when she returned she said my file had  just been updated while i was on hold and that the claim was being denied because textbooks have finite lives and are undergo revision after courses end  i explained that my daughter s course had not ended and that i was told specifically by chase that my textbook purchases would be covered and was again told they were refusing my claim  by the time the call ended i received an email stating that my claim status had been updated and was being denied i find this completely outrageous and borderline fraudulent</td>\n",
       "      <td>on wednesday xxxxxxxx i called chas my xxxx xxxx visa credit card provider and asked how to make a claim under their purchase protection benefit on xxxxxxxx i purchased three high school textbook for my xxxx year old daughter because she transferred to a new school all three book were damaged when a water bottle in her backpack broke the chase representative assured me the textbook would be covered and instructed me to file a claim at xxxx i immediately went to the website and filed the claim including uploading all of the requested paperwork which included a copy of my credit card statement copy of the three receipt and photographic evidence of the damage the website even had book a one of the catagories i could list a the type of item they cover and that i could make a claim on after following up repeatedly on my claim since the insurance provider failed to review my information and contact me within business day to outline the next step of the process a outlined in an email i received acknowledging my claim submission i called to complain the representative said claim are not looked at by an examiner for eight to ten day and then it would take two day to actually review the claim i responded that this information wa contradictory to the information provided in writing in the email xxxx sent to me and she said that she is not an adjuster and that is how it work i then asked to speak with an adjuster and she agreed to connect me to one i wa then put on hold and when she returned she said my file had just been updated while i wa on hold and that the claim wa being denied because textbook have finite life and are undergo revision after course end i explained that my daughter s course had not ended and that i wa told specifically by chase that my textbook purchase would be covered and wa again told they were refusing my claim by the time the call ended i received an email stating that my claim status had been updated and wa being denied i find this completely outrageous and borderline fraudulent</td>\n",
       "    </tr>\n",
       "    <tr>\n",
       "      <th>78310</th>\n",
       "      <td>i am not familiar with xxxx pay and did not understand the great risk this provides to consumers i believed this to be safe as it was through my chase bank app i have been with chase for almost  years and trust their mobile banking and now am sadly regretful i am being told to deal with the merchant except the merchant has refused to answer my inquiries and now shut down communication the website of the said merchant looks entirely legitamite and is even using the faces of highly successful brands with individuals linked to their social media without their consent in performing research of the phone number and other associated information available through pi it is very clear this merchant is continually creating new account title holders to perpetuate this cycle of fraud furthermore as this is a non fixed voip being used i believe they are fraudulently using the identity of the real xxxx xxxx chase bank told me they wouldnt even investigate report this to xxxx or allow me to file a report or take any potential recourse for the matter there isnt even a protocol in place to address this issue yet the chase mobile app verbiage makes a point to deceptively position this app as under the branch of chase banking service and as such imply a degree of entitlement to its customer service protection protocols chase has your back which reads on the very same link as the xxxx tab  is most certainly not true this places consumers at risk when using this mobile service and does not flag the concern of chase in the slightest at minimum the risk of using xxxx on your mobile banking app must realistically be made aware to the public as it stands to be potentially devastating i have plans to file reports with all corresponding authorities as well as notify and contact the individual whose identity is being misused to inform him i also intend to urge my neighbor who works in television that the news network should perhaps present the risk of using xxxx and xxxx integrated banking apps to the public i understand fraud and scamming are overwhelming rampant but a banking mogul such as chase not having any recourse of action is simply a risk that needs to be disclosed more throughly i would not have clicked on the to link to the extent i did if i would have been better informed</td>\n",
       "      <td>i am not familiar with xxxx pay and did not understand the great risk this provides to consumer i believed this to be safe a it wa through my chase bank app i have been with chase for almost year and trust their mobile banking and now am sadly regretful i am being told to deal with the merchant except the merchant ha refused to answer my inquiry and now shut down communication the website of the said merchant look entirely legitamite and is even using the face of highly successful brand with individual linked to their social medium without their consent in performing research of the phone number and other associated information available through pi it is very clear this merchant is continually creating new account title holder to perpetuate this cycle of fraud furthermore a this is a non fixed voip being used i believe they are fraudulently using the identity of the real xxxx xxxx chase bank told me they wouldnt even investigate report this to xxxx or allow me to file a report or take any potential recourse for the matter there isnt even a protocol in place to address this issue yet the chase mobile app verbiage make a point to deceptively position this app a under the branch of chase banking service and a such imply a degree of entitlement to it customer service protection protocol chase ha your back which read on the very same link a the xxxx tab is most certainly not true this place consumer at risk when using this mobile service and doe not flag the concern of chase in the slightest at minimum the risk of using xxxx on your mobile banking app must realistically be made aware to the public a it stand to be potentially devastating i have plan to file report with all corresponding authority a well a notify and contact the individual whose identity is being misused to inform him i also intend to urge my neighbor who work in television that the news network should perhaps present the risk of using xxxx and xxxx integrated banking apps to the public i understand fraud and scamming are overwhelming rampant but a banking mogul such a chase not having any recourse of action is simply a risk that need to be disclosed more throughly i would not have clicked on the to link to the extent i did if i would have been better informed</td>\n",
       "    </tr>\n",
       "    <tr>\n",
       "      <th>78311</th>\n",
       "      <td>i have had flawless credit for  yrs ive had chase credit cards  chase freedom  specifically since xxxx with no problems ever ive done many balance transfers in my life so i have plenty of experience i recently did a balance transfer with chase freedom for  ( did many with other chase cards but apparently not  freeedom  ) when i got my first bill my minimum payment was  i was shocked i immediately called on xxxxxxxx the representative told me that the min payment was so high bc they were making me pay the  balance transfer fee  up front but my future payments would be around    of total balance ( which is standard and the rate they advertise ) i went to pay the next payment on xxxxxxxx  was once again shocked to see my minimum payment was  i paid it but i have been trying to work this out with chase ever since apparently the representative was wrong  i am actually expected to pay   instead of the standard   they normally charge bc that was written in my  user agreement  paperwork back in xxxxxxxx  years ago they currently charge   to everyone else in the world my other cards including chase are all   this  is an unreasonable amt to expect someone to pay for  credit card i have kids  many other bills to pay they never warned me they were so  off the charts  with their minimum payment percentage ( except for my original paperwork in xxxxxxxx ) they offer everyone else   terms they change their  terms  anytime it benefits them but wont budge to lower it to make this payment more affordable  reasonable so i also asked them ( as soon as i found this out ) to refund my  transfer fee so i could use it to transfer the balance to a different card with a more reasonable minimum payment they refused i also asked if they would transfer to my chase slate card which has   min pmt they also refused they will not work with me at all i am a responsible working person i would like to preserve my good credit i could easily transfer again to a different card but id have to pay another lump sum of  again</td>\n",
       "      <td>i have had flawless credit for yr ive had chase credit card chase freedom specifically since xxxx with no problem ever ive done many balance transfer in my life so i have plenty of experience i recently did a balance transfer with chase freedom for ( did many with other chase card but apparently not freeedom ) when i got my first bill my minimum payment wa i wa shocked i immediately called on xxxxxxxx the representative told me that the min payment wa so high bc they were making me pay the balance transfer fee up front but my future payment would be around of total balance ( which is standard and the rate they advertise ) i went to pay the next payment on xxxxxxxx wa once again shocked to see my minimum payment wa i paid it but i have been trying to work this out with chase ever since apparently the representative wa wrong i am actually expected to pay instead of the standard they normally charge bc that wa written in my user agreement paperwork back in xxxxxxxx year ago they currently charge to everyone else in the world my other card including chase are all this is an unreasonable amt to expect someone to pay for credit card i have kid many other bill to pay they never warned me they were so off the chart with their minimum payment percentage ( except for my original paperwork in xxxxxxxx ) they offer everyone else term they change their term anytime it benefit them but wont budge to lower it to make this payment more affordable reasonable so i also asked them ( a soon a i found this out ) to refund my transfer fee so i could use it to transfer the balance to a different card with a more reasonable minimum payment they refused i also asked if they would transfer to my chase slate card which ha min pmt they also refused they will not work with me at all i am a responsible working person i would like to preserve my good credit i could easily transfer again to a different card but id have to pay another lump sum of again</td>\n",
       "    </tr>\n",
       "    <tr>\n",
       "      <th>78312</th>\n",
       "      <td>roughly  years ago i closed out my accounts with jp morgan chase bank xxxx in order to close out an unsecured line of credit i had to pay it off i did that to close out my account roughly  payment when i closed out the accounts and now i get this late payment that showed up on my credit report after  years stating i owe close to  dollars i have never had any payment schedules or notifications in the  years because i paid it off upon calling them i am told i need to show proof i paid it off i would like to think that if indeed i had not paid it off ( which i did ) i would have immediately received late payment notifications i left chase bank because of some poor customer service and charges that were way out of line with the other banking institutions</td>\n",
       "      <td>roughly year ago i closed out my account with jp morgan chase bank xxxx in order to close out an unsecured line of credit i had to pay it off i did that to close out my account roughly payment when i closed out the account and now i get this late payment that showed up on my credit report after year stating i owe close to dollar i have never had any payment schedule or notification in the year because i paid it off upon calling them i am told i need to show proof i paid it off i would like to think that if indeed i had not paid it off ( which i did ) i would have immediately received late payment notification i left chase bank because of some poor customer service and charge that were way out of line with the other banking institution</td>\n",
       "    </tr>\n",
       "  </tbody>\n",
       "</table>\n",
       "<p>21072 rows × 2 columns</p>\n",
       "</div>"
      ],
      "text/plain": [
       "                                                                                                                                                                                                                                                                                                                                                                                                                                                                                                                                                                                                                                                                                                                                                                                                                                                                                                                                                                                                                                                                                                                                                                                                                                                                                                                                                                                                                                                                                                                                                                                                                                                                                                                                                                                                                                                                                                                                                                                                                                                                                                                                                                                                                                                                                                                                                                          complaintwhathappened  \\\n",
       "1                                                                                                                                                                                                                                                                                                                                                                                                                                                                                                                                                                                                                                                                                                                                                                                                                                                                                                                                                                                                                                                                                                                                                                                                                                                                                                                                                                                                                                                                                                                                                                                                                                                                                                                                                                                                                                                                                               good morning my name is xxxx xxxx and i appreciate it if you could help me put a stop to chase bank cardmember services \\nin  i wrote to chase asking for debt verification and what they sent me a statement which is not acceptable i am asking the bank to validate the debt instead i been receiving mail every month from them attempting to collect a debt \\ni have a right to know this information as a consumer \\n\\nchase account  xxxx xxxx xxxx xxxx thanks in advance for your help   \n",
       "2                                                                                                                                                                                                                                                                                                                                                                                                                                                                                                                                                                                                                                                                                                                                                                                                                                                                                                                                                                                                                                                                                                                                                                                                                                                                                                                                                                                                                                                                                                                                                                                                                                                                                                                                                                                                                                                                                                                                                                                                                                             i upgraded my xxxx xxxx card in  and was told by the agent who did the upgrade my anniversary date would not change it turned the agent was giving me the wrong information in order to upgrade the account xxxx   changed my anniversary date from xxxxxxxx to xxxxxxxx without my consent xxxx has the recording of the agent who was misled me   \n",
       "10                                                                                                                                                                                                                                                                                                                                                                                                                                                                                                                                                                                                                                                                                                                                                                                                                                                                                                                                                                                                                                                                                                                                                                                                                                                                                                                                                                                                                                                                                                                                                                                                                                                                                                                                                                                                                                                                                                                                                                                                                                                                                                                                                                           chase card was reported on  however fraudulent application have been submitted my identity without my consent to fraudulently obtain services do not extend credit without verifying the identity of the applicant   \n",
       "11                                                                                                                                                                                                                                                                                                                                                                                                                                                                                                                                                                                                                                                                                                                                                                                                                                                                                                    on  while trying to book a xxxx  xxxx  ticket i came across an offer for  to be applied towards the ticket if i applied for a rewards card i put in my information for the offer and within less than a minute was notified via the screen that a decision could not be made i immediately contacted xxxx and was referred to chase bank i then immediately contacted chase bank within no more than  of getting the notification on the screen and i was told by the chase representative i spoke with that my application was denied but she could not state why i asked for more information about the xxxx  offer and she explained that even if i had been approved the credit offer only gets applied after the first account statement and could not be used to purchase the ticket i then explicitly told her i was glad i got denied and i was absolutely no longer interested in the account i asked that the application be withdrawn and the representative obliged this all happened no later than  after putting in the application on  notwithstanding my explicit request not to proceed with the application and contrary to what i was told by the chase representative chase did in fact go ahead to open a credit account in my name on  this is now being reported in my credit report and chase has refused to correct this information on my credit report even though they went ahead to process an application which i did not consent to and out of their error   \n",
       "14                                                                                                                                                                                                                                                                                                                                                                                                                                                                                                                                                                                                                                                                                                                                                                                                                                                                                                                                                                                                                                                                                                                                                                                                                                                                                                                                                                                                                                                                                                                                                                                                                                                                                                                                                                                                                                                                                                                     my grand son give me check for  i deposit it into my chase account after fund clear my chase bank closed my account never paid me my money they said they need to speek with my grand son check was clear money was taking by my chase bank refuse to pay me my money my grand son called chase  times they told him i should call not him to verify the check owner he is out the country most the time  date happen  check number xxxx claim number is xxxx with chase   \n",
       "...                                                                                                                                                                                                                                                                                                                                                                                                                                                                                                                                                                                                                                                                                                                                                                                                                                                                                                                                                                                                                                                                                                                                                                                                                                                                                                                                                                                                                                                                                                                                                                                                                                                                                                                                                                                                                                                                                                                                                                                                                                                                                                                                                                                                                                                                                                                                                                                         ...   \n",
       "78303                                                                                                                                                                                                                                                                                                                                                                                                                                                                                                                                                                                                                                                                                                                                                                                                                                                                                                                                                                                                                                                                                                                                                                                                                                                                                                                                                                                                                                                                                                                                                                                                                                                                                                          after being a chase card customer for well over a decade was offered multiple solicitations for acquiring new credit cards with chase  all with bonus airline miles and hotel points was approved for all (  ) new cards with no annual fee for  year after less than  months with payment always paid as agreed chase closed all my cards one of my (  ) approved new cards was never activated but was sent to me\\n\\nchase has done harm to my credit has charged me an annual fee even though they cancelled my account failed to credit my points for both airlines and hotel failed to credit up to  for xxxx enrollment and failed to credit airline charge as agreed upon   \n",
       "78309                                                                                                                                                                                                                                       on wednesday xxxxxxxx i called chas my xxxx xxxx visa credit card provider and asked how to make a claim under their purchase protection benefit on xxxxxxxx i purchased three high school textbooks for my xxxx year old daughter because she transferred to a new school all three books were damaged when a water bottle in her backpack broke the chase representative assured me the textbooks would be covered and instructed me to file a claim at xxxx i immediately went to the website and filed the claim including uploading all of the requested paperwork which included a copy of my credit card statement copies of the three receipts and photographic evidence of the damage the website even had  books  as one of the catagories i could list as the type of item they cover and that i could make a claim on after following up repeatedly on my claim since the insurance provider failed to  review my information and contact me within  business days to outline the next steps of the process  as outlined in an email i received acknowledging my claim submission i called to complain the representative said claims are not looked at by an examiner  for eight to ten days  and then it would take  two days to actually review the claim  i responded that this information was contradictory to the information provided in writing in the email xxxx sent to me and she said that she is not an adjuster and that is how it works i then asked to speak with an adjuster and she agreed to connect me to one i was then put on hold and when she returned she said my file had  just been updated while i was on hold and that the claim was being denied because textbooks have finite lives and are undergo revision after courses end  i explained that my daughter s course had not ended and that i was told specifically by chase that my textbook purchases would be covered and was again told they were refusing my claim  by the time the call ended i received an email stating that my claim status had been updated and was being denied i find this completely outrageous and borderline fraudulent   \n",
       "78310  i am not familiar with xxxx pay and did not understand the great risk this provides to consumers i believed this to be safe as it was through my chase bank app i have been with chase for almost  years and trust their mobile banking and now am sadly regretful i am being told to deal with the merchant except the merchant has refused to answer my inquiries and now shut down communication the website of the said merchant looks entirely legitamite and is even using the faces of highly successful brands with individuals linked to their social media without their consent in performing research of the phone number and other associated information available through pi it is very clear this merchant is continually creating new account title holders to perpetuate this cycle of fraud furthermore as this is a non fixed voip being used i believe they are fraudulently using the identity of the real xxxx xxxx chase bank told me they wouldnt even investigate report this to xxxx or allow me to file a report or take any potential recourse for the matter there isnt even a protocol in place to address this issue yet the chase mobile app verbiage makes a point to deceptively position this app as under the branch of chase banking service and as such imply a degree of entitlement to its customer service protection protocols chase has your back which reads on the very same link as the xxxx tab  is most certainly not true this places consumers at risk when using this mobile service and does not flag the concern of chase in the slightest at minimum the risk of using xxxx on your mobile banking app must realistically be made aware to the public as it stands to be potentially devastating i have plans to file reports with all corresponding authorities as well as notify and contact the individual whose identity is being misused to inform him i also intend to urge my neighbor who works in television that the news network should perhaps present the risk of using xxxx and xxxx integrated banking apps to the public i understand fraud and scamming are overwhelming rampant but a banking mogul such as chase not having any recourse of action is simply a risk that needs to be disclosed more throughly i would not have clicked on the to link to the extent i did if i would have been better informed   \n",
       "78311                                                                                                                                                                                                                                                                                         i have had flawless credit for  yrs ive had chase credit cards  chase freedom  specifically since xxxx with no problems ever ive done many balance transfers in my life so i have plenty of experience i recently did a balance transfer with chase freedom for  ( did many with other chase cards but apparently not  freeedom  ) when i got my first bill my minimum payment was  i was shocked i immediately called on xxxxxxxx the representative told me that the min payment was so high bc they were making me pay the  balance transfer fee  up front but my future payments would be around    of total balance ( which is standard and the rate they advertise ) i went to pay the next payment on xxxxxxxx  was once again shocked to see my minimum payment was  i paid it but i have been trying to work this out with chase ever since apparently the representative was wrong  i am actually expected to pay   instead of the standard   they normally charge bc that was written in my  user agreement  paperwork back in xxxxxxxx  years ago they currently charge   to everyone else in the world my other cards including chase are all   this  is an unreasonable amt to expect someone to pay for  credit card i have kids  many other bills to pay they never warned me they were so  off the charts  with their minimum payment percentage ( except for my original paperwork in xxxxxxxx ) they offer everyone else   terms they change their  terms  anytime it benefits them but wont budge to lower it to make this payment more affordable  reasonable so i also asked them ( as soon as i found this out ) to refund my  transfer fee so i could use it to transfer the balance to a different card with a more reasonable minimum payment they refused i also asked if they would transfer to my chase slate card which has   min pmt they also refused they will not work with me at all i am a responsible working person i would like to preserve my good credit i could easily transfer again to a different card but id have to pay another lump sum of  again   \n",
       "78312                                                                                                                                                                                                                                                                                                                                                                                                                                                                                                                                                                                                                                                                                                                                                                                                                                                                                                                                                                                                                                                                                                                                                                                                                                                                                                                                                                                                                                                                                                                                                                                                  roughly  years ago i closed out my accounts with jp morgan chase bank xxxx in order to close out an unsecured line of credit i had to pay it off i did that to close out my account roughly  payment when i closed out the accounts and now i get this late payment that showed up on my credit report after  years stating i owe close to  dollars i have never had any payment schedules or notifications in the  years because i paid it off upon calling them i am told i need to show proof i paid it off i would like to think that if indeed i had not paid it off ( which i did ) i would have immediately received late payment notifications i left chase bank because of some poor customer service and charges that were way out of line with the other banking institutions   \n",
       "\n",
       "                                                                                                                                                                                                                                                                                                                                                                                                                                                                                                                                                                                                                                                                                                                                                                                                                                                                                                                                                                                                                                                                                                                                                                                                                                                                                                                                                                                                                                                                                                                                                                                                                                                                                                                                                                                                                                                                                                                                                                                                                                                                                                                                                                                                                                                                                                                                      complaints_lemmatized  \n",
       "1                                                                                                                                                                                                                                                                                                                                                                                                                                                                                                                                                                                                                                                                                                                                                                                                                                                                                                                                                                                                                                                                                                                                                                                                                                                                                                                                                                                                                                                                                                                                                                                                                                                                                                                                                                                                                                                                       good morning my name is xxxx xxxx and i appreciate it if you could help me put a stop to chase bank cardmember service in i wrote to chase asking for debt verification and what they sent me a statement which is not acceptable i am asking the bank to validate the debt instead i been receiving mail every month from them attempting to collect a debt i have a right to know this information a a consumer chase account xxxx xxxx xxxx xxxx thanks in advance for your help  \n",
       "2                                                                                                                                                                                                                                                                                                                                                                                                                                                                                                                                                                                                                                                                                                                                                                                                                                                                                                                                                                                                                                                                                                                                                                                                                                                                                                                                                                                                                                                                                                                                                                                                                                                                                                                                                                                                                                                                                                                                                                                                                i upgraded my xxxx xxxx card in and wa told by the agent who did the upgrade my anniversary date would not change it turned the agent wa giving me the wrong information in order to upgrade the account xxxx changed my anniversary date from xxxxxxxx to xxxxxxxx without my consent xxxx ha the recording of the agent who wa misled me  \n",
       "10                                                                                                                                                                                                                                                                                                                                                                                                                                                                                                                                                                                                                                                                                                                                                                                                                                                                                                                                                                                                                                                                                                                                                                                                                                                                                                                                                                                                                                                                                                                                                                                                                                                                                                                                                                                                                                                                                                                                                                                                                                                                                                                                          chase card wa reported on however fraudulent application have been submitted my identity without my consent to fraudulently obtain service do not extend credit without verifying the identity of the applicant  \n",
       "11                                                                                                                                                                                                                                                                                                                                                                                                                                                                                                                                                                                                                                                                                                                                                                                                                                                                                     on while trying to book a xxxx xxxx ticket i came across an offer for to be applied towards the ticket if i applied for a reward card i put in my information for the offer and within le than a minute wa notified via the screen that a decision could not be made i immediately contacted xxxx and wa referred to chase bank i then immediately contacted chase bank within no more than of getting the notification on the screen and i wa told by the chase representative i spoke with that my application wa denied but she could not state why i asked for more information about the xxxx offer and she explained that even if i had been approved the credit offer only get applied after the first account statement and could not be used to purchase the ticket i then explicitly told her i wa glad i got denied and i wa absolutely no longer interested in the account i asked that the application be withdrawn and the representative obliged this all happened no later than after putting in the application on notwithstanding my explicit request not to proceed with the application and contrary to what i wa told by the chase representative chase did in fact go ahead to open a credit account in my name on this is now being reported in my credit report and chase ha refused to correct this information on my credit report even though they went ahead to process an application which i did not consent to and out of their error  \n",
       "14                                                                                                                                                                                                                                                                                                                                                                                                                                                                                                                                                                                                                                                                                                                                                                                                                                                                                                                                                                                                                                                                                                                                                                                                                                                                                                                                                                                                                                                                                                                                                                                                                                                                                                                                                                                                                                                                                        my grand son give me check for i deposit it into my chase account after fund clear my chase bank closed my account never paid me my money they said they need to speek with my grand son check wa clear money wa taking by my chase bank refuse to pay me my money my grand son called chase time they told him i should call not him to verify the check owner he is out the country most the time date happen check number xxxx claim number is xxxx with chase  \n",
       "...                                                                                                                                                                                                                                                                                                                                                                                                                                                                                                                                                                                                                                                                                                                                                                                                                                                                                                                                                                                                                                                                                                                                                                                                                                                                                                                                                                                                                                                                                                                                                                                                                                                                                                                                                                                                                                                                                                                                                                                                                                                                                                                                                                                                                                                                                                                                                     ...  \n",
       "78303                                                                                                                                                                                                                                                                                                                                                                                                                                                                                                                                                                                                                                                                                                                                                                                                                                                                                                                                                                                                                                                                                                                                                                                                                                                                                                                                                                                                                                                                                                                                                                                                                                                                                                   after being a chase card customer for well over a decade wa offered multiple solicitation for acquiring new credit card with chase all with bonus airline mile and hotel point wa approved for all ( ) new card with no annual fee for year after le than month with payment always paid a agreed chase closed all my card one of my ( ) approved new card wa never activated but wa sent to me chase ha done harm to my credit ha charged me an annual fee even though they cancelled my account failed to credit my point for both airline and hotel failed to credit up to for xxxx enrollment and failed to credit airline charge a agreed upon  \n",
       "78309                                                                                                                                                                                                                                          on wednesday xxxxxxxx i called chas my xxxx xxxx visa credit card provider and asked how to make a claim under their purchase protection benefit on xxxxxxxx i purchased three high school textbook for my xxxx year old daughter because she transferred to a new school all three book were damaged when a water bottle in her backpack broke the chase representative assured me the textbook would be covered and instructed me to file a claim at xxxx i immediately went to the website and filed the claim including uploading all of the requested paperwork which included a copy of my credit card statement copy of the three receipt and photographic evidence of the damage the website even had book a one of the catagories i could list a the type of item they cover and that i could make a claim on after following up repeatedly on my claim since the insurance provider failed to review my information and contact me within business day to outline the next step of the process a outlined in an email i received acknowledging my claim submission i called to complain the representative said claim are not looked at by an examiner for eight to ten day and then it would take two day to actually review the claim i responded that this information wa contradictory to the information provided in writing in the email xxxx sent to me and she said that she is not an adjuster and that is how it work i then asked to speak with an adjuster and she agreed to connect me to one i wa then put on hold and when she returned she said my file had just been updated while i wa on hold and that the claim wa being denied because textbook have finite life and are undergo revision after course end i explained that my daughter s course had not ended and that i wa told specifically by chase that my textbook purchase would be covered and wa again told they were refusing my claim by the time the call ended i received an email stating that my claim status had been updated and wa being denied i find this completely outrageous and borderline fraudulent  \n",
       "78310  i am not familiar with xxxx pay and did not understand the great risk this provides to consumer i believed this to be safe a it wa through my chase bank app i have been with chase for almost year and trust their mobile banking and now am sadly regretful i am being told to deal with the merchant except the merchant ha refused to answer my inquiry and now shut down communication the website of the said merchant look entirely legitamite and is even using the face of highly successful brand with individual linked to their social medium without their consent in performing research of the phone number and other associated information available through pi it is very clear this merchant is continually creating new account title holder to perpetuate this cycle of fraud furthermore a this is a non fixed voip being used i believe they are fraudulently using the identity of the real xxxx xxxx chase bank told me they wouldnt even investigate report this to xxxx or allow me to file a report or take any potential recourse for the matter there isnt even a protocol in place to address this issue yet the chase mobile app verbiage make a point to deceptively position this app a under the branch of chase banking service and a such imply a degree of entitlement to it customer service protection protocol chase ha your back which read on the very same link a the xxxx tab is most certainly not true this place consumer at risk when using this mobile service and doe not flag the concern of chase in the slightest at minimum the risk of using xxxx on your mobile banking app must realistically be made aware to the public a it stand to be potentially devastating i have plan to file report with all corresponding authority a well a notify and contact the individual whose identity is being misused to inform him i also intend to urge my neighbor who work in television that the news network should perhaps present the risk of using xxxx and xxxx integrated banking apps to the public i understand fraud and scamming are overwhelming rampant but a banking mogul such a chase not having any recourse of action is simply a risk that need to be disclosed more throughly i would not have clicked on the to link to the extent i did if i would have been better informed  \n",
       "78311                                                                                                                                                                                                                                                                                                                     i have had flawless credit for yr ive had chase credit card chase freedom specifically since xxxx with no problem ever ive done many balance transfer in my life so i have plenty of experience i recently did a balance transfer with chase freedom for ( did many with other chase card but apparently not freeedom ) when i got my first bill my minimum payment wa i wa shocked i immediately called on xxxxxxxx the representative told me that the min payment wa so high bc they were making me pay the balance transfer fee up front but my future payment would be around of total balance ( which is standard and the rate they advertise ) i went to pay the next payment on xxxxxxxx wa once again shocked to see my minimum payment wa i paid it but i have been trying to work this out with chase ever since apparently the representative wa wrong i am actually expected to pay instead of the standard they normally charge bc that wa written in my user agreement paperwork back in xxxxxxxx year ago they currently charge to everyone else in the world my other card including chase are all this is an unreasonable amt to expect someone to pay for credit card i have kid many other bill to pay they never warned me they were so off the chart with their minimum payment percentage ( except for my original paperwork in xxxxxxxx ) they offer everyone else term they change their term anytime it benefit them but wont budge to lower it to make this payment more affordable reasonable so i also asked them ( a soon a i found this out ) to refund my transfer fee so i could use it to transfer the balance to a different card with a more reasonable minimum payment they refused i also asked if they would transfer to my chase slate card which ha min pmt they also refused they will not work with me at all i am a responsible working person i would like to preserve my good credit i could easily transfer again to a different card but id have to pay another lump sum of again  \n",
       "78312                                                                                                                                                                                                                                                                                                                                                                                                                                                                                                                                                                                                                                                                                                                                                                                                                                                                                                                                                                                                                                                                                                                                                                                                                                                                                                                                                                                                                                                                                                                                                                              roughly year ago i closed out my account with jp morgan chase bank xxxx in order to close out an unsecured line of credit i had to pay it off i did that to close out my account roughly payment when i closed out the account and now i get this late payment that showed up on my credit report after year stating i owe close to dollar i have never had any payment schedule or notification in the year because i paid it off upon calling them i am told i need to show proof i paid it off i would like to think that if indeed i had not paid it off ( which i did ) i would have immediately received late payment notification i left chase bank because of some poor customer service and charge that were way out of line with the other banking institution  \n",
       "\n",
       "[21072 rows x 2 columns]"
      ]
     },
     "execution_count": 16,
     "metadata": {},
     "output_type": "execute_result"
    }
   ],
   "source": [
    "df_clean"
   ]
  },
  {
   "cell_type": "code",
   "execution_count": null,
   "metadata": {
    "id": "Kk7fc4DuJrF1"
   },
   "outputs": [],
   "source": [
    "#Write your function to extract the POS tags \n",
    "def pos_tag(text):\n",
    "  # write your code here\n",
    "    text = text.split()\n",
    "    tags = nltk.pos_tag(text)\n",
    "    return \" \".join([(word) for word, tag in tags if (tag=='NN')])\n",
    "\n",
    "df_clean[\"complaint_POS_removed\"] = df_clean['complaints_lemmatized'].apply(pos_tag) #this column should contain lemmatized text with all the words removed which have tags other than NN[tag == \"NN\"]."
   ]
  },
  {
   "cell_type": "code",
   "execution_count": null,
   "metadata": {
    "id": "AjxfchvFJrF2"
   },
   "outputs": [],
   "source": [
    "#The clean dataframe should now contain the raw complaint, lemmatized complaint and the complaint after removing POS tags.\n",
    "df_clean"
   ]
  },
  {
   "cell_type": "markdown",
   "metadata": {
    "id": "_7Un1AElJrF2"
   },
   "source": [
    "## Exploratory data analysis to get familiar with the data.\n",
    "\n",
    "Write the code in this task to perform the following:\n",
    "\n",
    "*   Visualise the data according to the 'Complaint' character length\n",
    "*   Using a word cloud find the top 40 words by frequency among all the articles after processing the text\n",
    "*   Find the top unigrams,bigrams and trigrams by frequency among all the complaints after processing the text. ‘\n",
    "\n",
    "\n"
   ]
  },
  {
   "cell_type": "code",
   "execution_count": null,
   "metadata": {
    "id": "q-zaqJF6JrF2"
   },
   "outputs": [],
   "source": [
    "# Write your code here to visualise the data according to the 'Complaint' character length\n",
    "df_clean['complaint_length'] = df_clean['complaintwhathappened'].astype(str).apply(len)\n",
    "df_clean = df_clean.sort_values(by = 'complaint_length', ascending = False)\n",
    "df_clean"
   ]
  },
  {
   "cell_type": "code",
   "execution_count": null,
   "metadata": {},
   "outputs": [],
   "source": [
    "# Plot the data according to character length of complaints\n",
    "plt.figure(figsize=(10,6))\n",
    "plt.hist(df_clean.complaint_length, bins = 30)\n",
    "plt.title('Distribution of Character Length of Complaints', fontsize=25)\n",
    "plt.ylabel('Number of Complaints', fontsize = 15)\n",
    "plt.xlabel('Length of Characters in the Complaint', fontsize = 15)\n",
    "plt.show()"
   ]
  },
  {
   "cell_type": "markdown",
   "metadata": {
    "id": "T9jD_6SeJrF3"
   },
   "source": [
    "#### Find the top 40 words by frequency among all the articles after processing the text."
   ]
  },
  {
   "cell_type": "code",
   "execution_count": null,
   "metadata": {
    "id": "QcfdvtfZJrF3"
   },
   "outputs": [],
   "source": [
    "#Using a word cloud find the top 40 words by frequency among all the articles after processing the text\n",
    "data = \" \".join(review for review in df_clean.complaint_POS_removed)\n",
    "wordcloud = WordCloud(max_words=40,background_color=\"white\").generate(data)\n",
    "plt.figure(figsize=[10,10])\n",
    "plt.imshow(wordcloud,interpolation='bilinear')\n",
    "plt.axis(\"off\")\n",
    "plt.show()"
   ]
  },
  {
   "cell_type": "code",
   "execution_count": null,
   "metadata": {
    "id": "OkSmc3UaJrF4"
   },
   "outputs": [],
   "source": [
    "#Removing -PRON- from the text corpus\n",
    "df_clean['Complaint_clean'] = df_clean['complaint_POS_removed'].str.replace('-PRON-', '')"
   ]
  },
  {
   "cell_type": "markdown",
   "metadata": {
    "id": "5DfCSbbmJrF4"
   },
   "source": [
    "#### Find the top unigrams,bigrams and trigrams by frequency among all the complaints after processing the text."
   ]
  },
  {
   "cell_type": "code",
   "execution_count": null,
   "metadata": {
    "id": "5mbk5DS5JrF4"
   },
   "outputs": [],
   "source": [
    "#Write your code here to find the top 30 unigram frequency among the complaints in the cleaned datafram(df_clean). \n",
    "def get_top_n_words(corpus, n=None):\n",
    "    data = \" \".join(review for review in df_clean.complaint_POS_removed)\n",
    "    vec = CountVectorizer().fit(corpus)\n",
    "    bag_of_words = vec.transform(corpus)\n",
    "    sum_words = bag_of_words.sum(axis=0) \n",
    "    words_freq = [(word, sum_words[0, idx]) for word, idx in vec.vocabulary_.items()]\n",
    "    words_freq =sorted(words_freq, key = lambda x: x[1], reverse=True)\n",
    "    return words_freq[:n]\n",
    "\n",
    "common_words = get_top_n_words(df_clean['complaint_POS_removed'], 30)\n",
    "    \n",
    "df1 = pd.DataFrame(common_words, columns = ['unigram' , 'count'])\n",
    "df1.groupby('unigram').sum()['count'].sort_values(ascending=False)\n",
    "\n",
    "plt.figure(figsize=(15,6))\n",
    "sns.barplot(x='unigram', y='count', data=df1, palette=\"coolwarm\")\n",
    "plt.xticks(rotation=90)\n",
    "plt.title(\"Top 30 unigrams in the Complaint text\", fontsize=20)\n",
    "plt.show()"
   ]
  },
  {
   "cell_type": "code",
   "execution_count": null,
   "metadata": {
    "id": "YX7fedm1JrF8"
   },
   "outputs": [],
   "source": [
    "#Print the top 10 words in the unigram frequency\n",
    "common_words = get_top_n_words(df_clean['complaint_POS_removed'], 10)\n",
    "for word, freq in common_words:\n",
    "    print(word, freq)"
   ]
  },
  {
   "cell_type": "code",
   "execution_count": null,
   "metadata": {
    "id": "aV7kD7w8JrF8"
   },
   "outputs": [],
   "source": [
    "#Write your code here to find the top 30 bigram frequency among the complaints in the cleaned datafram(df_clean). \n",
    "def get_top_n_bigram(corpus, n=None):\n",
    "    data = \" \".join(review for review in df_clean.complaint_POS_removed)\n",
    "    vec = CountVectorizer(ngram_range=(2,2)).fit(corpus)\n",
    "    bag_of_words = vec.transform(corpus)\n",
    "    sum_words = bag_of_words.sum(axis=0) \n",
    "    words_freq = [(word, sum_words[0, idx]) for word, idx in vec.vocabulary_.items()]\n",
    "    words_freq =sorted(words_freq, key = lambda x: x[1], reverse=True)\n",
    "    return words_freq[:n]\n",
    "\n",
    "common_words = get_top_n_bigram(df_clean['complaint_POS_removed'], 30)\n",
    "df1_bi = pd.DataFrame(common_words, columns = ['bigram' , 'count'])\n",
    "df1_bi.groupby('bigram').sum()['count'].sort_values(ascending=False)\n",
    "\n",
    "plt.figure(figsize=(15,6))\n",
    "sns.barplot(x='bigram', y='count', data=df1_bi, palette=\"coolwarm\")\n",
    "plt.xticks(rotation=90)\n",
    "plt.title(\"Top 30 bigrams in the Complaint text\", fontsize=20)\n",
    "plt.show()"
   ]
  },
  {
   "cell_type": "code",
   "execution_count": null,
   "metadata": {
    "id": "NPnMNIpyJrF9"
   },
   "outputs": [],
   "source": [
    "#Print the top 10 words in the bigram frequency\n",
    "common_words = get_top_n_bigram(df_clean['complaint_POS_removed'], 10)\n",
    "for word, freq in common_words:\n",
    "    print(word, freq)"
   ]
  },
  {
   "cell_type": "code",
   "execution_count": null,
   "metadata": {
    "id": "Xkh7vtbtJrF-"
   },
   "outputs": [],
   "source": [
    "#Write your code here to find the top 30 trigram frequency among the complaints in the cleaned datafram(df_clean). \n",
    "def get_top_n_trigram(corpus, n=None):\n",
    "    data = \" \".join(review for review in df_clean.complaint_POS_removed)\n",
    "    vec = CountVectorizer(ngram_range=(3,3)).fit(corpus)\n",
    "    bag_of_words = vec.transform(corpus)\n",
    "    sum_words = bag_of_words.sum(axis=0) \n",
    "    words_freq = [(word, sum_words[0, idx]) for word, idx in vec.vocabulary_.items()]\n",
    "    words_freq =sorted(words_freq, key = lambda x: x[1], reverse=True)\n",
    "    return words_freq[:n]\n",
    "\n",
    "common_words = get_top_n_trigram(df_clean['complaint_POS_removed'], 30)\n",
    "df1_tri = pd.DataFrame(common_words, columns = ['trigram' , 'count'])\n",
    "df1_tri.groupby('trigram').sum()['count'].sort_values(ascending=False)\n",
    "\n",
    "plt.figure(figsize=(15,6))\n",
    "sns.barplot(x='trigram', y='count', data=df1_tri, palette=\"coolwarm\")\n",
    "plt.xticks(rotation=90)\n",
    "plt.title(\"Top 30 trigrams in the Complaint text\", fontsize=20)\n",
    "plt.show()"
   ]
  },
  {
   "cell_type": "code",
   "execution_count": null,
   "metadata": {
    "id": "REcVxNfvJrF-"
   },
   "outputs": [],
   "source": [
    "#Print the top 10 words in the trigram frequency\n",
    "common_words = get_top_n_trigram(df_clean['complaint_POS_removed'], 10)\n",
    "for word, freq in common_words:\n",
    "    print(word, freq)"
   ]
  },
  {
   "cell_type": "markdown",
   "metadata": {
    "id": "yUXzFji0JrF_"
   },
   "source": [
    "#### The personal details of customer has been masked in the dataset with xxxx. Let's remove the masked text as this will be of no use for our analysis"
   ]
  },
  {
   "cell_type": "code",
   "execution_count": null,
   "metadata": {
    "id": "wKda-a_IJrF_"
   },
   "outputs": [],
   "source": [
    "df_clean['Complaint_clean'] = df_clean['Complaint_clean'].str.replace('xxxx','')"
   ]
  },
  {
   "cell_type": "code",
   "execution_count": null,
   "metadata": {
    "id": "9UIFk8fQJrF_"
   },
   "outputs": [],
   "source": [
    "#All masked texts has been removed\n",
    "df_clean"
   ]
  },
  {
   "cell_type": "markdown",
   "metadata": {
    "id": "k-I0k0QtJrGA"
   },
   "source": [
    "## Feature Extraction\n",
    "Convert the raw texts to a matrix of TF-IDF features\n",
    "\n",
    "**max_df** is used for removing terms that appear too frequently, also known as \"corpus-specific stop words\"\n",
    "max_df = 0.95 means \"ignore terms that appear in more than 95% of the complaints\"\n",
    "\n",
    "**min_df** is used for removing terms that appear too infrequently\n",
    "min_df = 2 means \"ignore terms that appear in less than 2 complaints\""
   ]
  },
  {
   "cell_type": "code",
   "execution_count": null,
   "metadata": {
    "id": "Y8fGwaCPJrGA"
   },
   "outputs": [],
   "source": [
    "#Write your code here to initialise the TfidfVectorizer \n",
    "tfidf = TfidfVectorizer(max_df = 0.95, min_df = 2, stop_words = 'english')"
   ]
  },
  {
   "cell_type": "markdown",
   "metadata": {
    "id": "yYzD85nTJrGA"
   },
   "source": [
    "#### Create a document term matrix using fit_transform\n",
    "\n",
    "The contents of a document term matrix are tuples of (complaint_id,token_id) tf-idf score:\n",
    "The tuples that are not there have a tf-idf score of 0"
   ]
  },
  {
   "cell_type": "code",
   "execution_count": null,
   "metadata": {
    "id": "ffzdDpp_JrGB"
   },
   "outputs": [],
   "source": [
    "#Write your code here to create the Document Term Matrix by transforming the complaints column present in df_clean.\n",
    "dtm = tfidf.fit_transform(df_clean['Complaint_clean'])"
   ]
  },
  {
   "cell_type": "markdown",
   "metadata": {
    "id": "7Q9lwvNEJrGB"
   },
   "source": [
    "## Topic Modelling using NMF\n",
    "\n",
    "Non-Negative Matrix Factorization (NMF) is an unsupervised technique so there are no labeling of topics that the model will be trained on. The way it works is that, NMF decomposes (or factorizes) high-dimensional vectors into a lower-dimensional representation. These lower-dimensional vectors are non-negative which also means their coefficients are non-negative.\n",
    "\n",
    "In this task you have to perform the following:\n",
    "\n",
    "* Find the best number of clusters \n",
    "* Apply the best number to create word clusters\n",
    "* Inspect & validate the correction of each cluster wrt the complaints \n",
    "* Correct the labels if needed \n",
    "* Map the clusters to topics/cluster names"
   ]
  },
  {
   "cell_type": "markdown",
   "metadata": {
    "id": "0wYR1xUTJrGD"
   },
   "source": [
    "## Manual Topic Modeling\n",
    "You need to do take the trial & error approach to find the best num of topics for your NMF model.\n",
    "\n",
    "The only parameter that is required is the number of components i.e. the number of topics we want. This is the most crucial step in the whole topic modeling process and will greatly affect how good your final topics are."
   ]
  },
  {
   "cell_type": "code",
   "execution_count": null,
   "metadata": {
    "id": "sgd2A6bhJrGD"
   },
   "outputs": [],
   "source": [
    "#Load your nmf_model with the n_components i.e 5\n",
    "num_topics = 5 #write the value you want to test out\n",
    "\n",
    "#keep the random_state =40\n",
    "nmf_model = NMF(n_components=num_topics,random_state=40) #write your code here"
   ]
  },
  {
   "cell_type": "code",
   "execution_count": null,
   "metadata": {
    "id": "VPMDYbt_JrGE"
   },
   "outputs": [],
   "source": [
    "nmf_model.fit(dtm)\n",
    "len(tfidf.get_feature_names())"
   ]
  },
  {
   "cell_type": "code",
   "execution_count": null,
   "metadata": {
    "id": "16kRfat5JrGE"
   },
   "outputs": [],
   "source": [
    "#Print the Top15 words for each of the topics\n",
    "W = nmf_model.fit_transform(dtm)  # Document-topic matrix\n",
    "H = nmf_model.components_       # Topic-term matrix\n",
    "words = np.array(tfidf.get_feature_names())\n",
    "topic_words = pd.DataFrame(np.zeros((num_topics, 15)), index=[f'Topic {i + 1}' for i in range(num_topics)],\n",
    "                           columns=[f'Word {i + 1}' for i in range(15)]).astype(str)\n",
    "for i in range(num_topics):\n",
    "    ix = H[i].argsort()[::-1][:15]\n",
    "    topic_words.iloc[i] = words[ix]\n",
    "\n",
    "topic_words"
   ]
  },
  {
   "cell_type": "code",
   "execution_count": null,
   "metadata": {
    "id": "0OIT7LmFJrGF"
   },
   "outputs": [],
   "source": [
    "#Create the best topic for each complaint in terms of integer value 0,1,2,3 & 4\n",
    "W.argmax(axis=1)"
   ]
  },
  {
   "cell_type": "code",
   "execution_count": null,
   "metadata": {
    "id": "peyYv-ORJrGF"
   },
   "outputs": [],
   "source": [
    "#Assign the best topic to each of the cmplaints in Topic Column\n",
    "df_clean['Topic'] = W.argmax(axis=1) #write your code to assign topics to each rows."
   ]
  },
  {
   "cell_type": "code",
   "execution_count": null,
   "metadata": {
    "id": "fLh_Gf3nJrGF"
   },
   "outputs": [],
   "source": [
    "df_clean.head()"
   ]
  },
  {
   "cell_type": "code",
   "execution_count": null,
   "metadata": {
    "id": "aQKpufSPJrGG"
   },
   "outputs": [],
   "source": [
    "#Print the first 5 Complaint for each of the Topics\n",
    "df_clean_5 = df_clean.groupby('Topic').head()\n",
    "df_clean_5.sort_values('Topic')"
   ]
  },
  {
   "cell_type": "markdown",
   "metadata": {
    "id": "piyLxzj6v07j"
   },
   "source": [
    "#### After evaluating the mapping, if the topics assigned are correct then assign these names to the relevant topic:\n",
    "* Bank Account services\n",
    "* Credit card or prepaid card\n",
    "* Theft/Dispute Reporting\n",
    "* Mortgage/Loan\n",
    "* Others"
   ]
  },
  {
   "cell_type": "code",
   "execution_count": null,
   "metadata": {
    "id": "TWpwDG4RJrGG"
   },
   "outputs": [],
   "source": [
    "#Create the dictionary of Topic names and Topics\n",
    "Topic_names = {0:\"Bank Account services\",\n",
    "               1:\"Theft/Dispute Reporting\", \n",
    "               2:\"Others\",\n",
    "               3:\"Credit card or prepaid card\",\n",
    "               4:\"Mortgage/Loan\"}\n",
    "\n",
    "#Replace Topics with Topic Names\n",
    "df_clean['Topic'] = df_clean['Topic'].map(Topic_names)\n"
   ]
  },
  {
   "cell_type": "code",
   "execution_count": null,
   "metadata": {
    "id": "-2ULY5K6JrGG"
   },
   "outputs": [],
   "source": [
    "df_clean"
   ]
  },
  {
   "cell_type": "markdown",
   "metadata": {
    "id": "7Mu0QBOcJrGH"
   },
   "source": [
    "## Supervised model to predict any new complaints to the relevant Topics.\n",
    "\n",
    "You have now build the model to create the topics for each complaints.Now in the below section you will use them to classify any new complaints.\n",
    "\n",
    "Since you will be using supervised learning technique we have to convert the topic names to numbers(numpy arrays only understand numbers)"
   ]
  },
  {
   "cell_type": "code",
   "execution_count": null,
   "metadata": {
    "id": "_U8J3J8wJrGH"
   },
   "outputs": [],
   "source": [
    "#Create the dictionary again of Topic names and Topics\n",
    "Topic_names = {\"Bank Account services\":0,\n",
    "               \"Theft/Dispute Reporting\":1,\n",
    "               \"Others\":2,\n",
    "               \"Credit card or prepaid card\":3,\n",
    "               \"Mortgage/Loan\":4}\n",
    "\n",
    "#Replace Topics with Topic Names\n",
    "df_clean['Topic'] = df_clean['Topic'].map(Topic_names)"
   ]
  },
  {
   "cell_type": "code",
   "execution_count": null,
   "metadata": {
    "id": "BWIgJUkQJrGH"
   },
   "outputs": [],
   "source": [
    "df_clean"
   ]
  },
  {
   "cell_type": "code",
   "execution_count": null,
   "metadata": {},
   "outputs": [],
   "source": [
    "df_clean.shape"
   ]
  },
  {
   "cell_type": "code",
   "execution_count": null,
   "metadata": {
    "id": "Xx-FrbkWJrGH"
   },
   "outputs": [],
   "source": [
    "#Keep the columns\"complaint_what_happened\" & \"Topic\" only in the new dataframe --> training_data\n",
    "training_data= df_clean[[\"complaintwhathappened\",\"Topic\"]]"
   ]
  },
  {
   "cell_type": "code",
   "execution_count": null,
   "metadata": {
    "id": "lVg2pa12JrGI"
   },
   "outputs": [],
   "source": [
    "training_data"
   ]
  },
  {
   "cell_type": "code",
   "execution_count": null,
   "metadata": {},
   "outputs": [],
   "source": [
    "training_data.isnull().sum()"
   ]
  },
  {
   "cell_type": "markdown",
   "metadata": {
    "id": "280Vbqk-7a8M"
   },
   "source": [
    "#### Apply the supervised models on the training data created. In this process, you have to do the following:\n",
    "* Create the vector counts using Count Vectoriser\n",
    "* Transform the word vecotr to tf-idf\n",
    "* Create the train & test data using the train_test_split on the tf-idf & topics\n"
   ]
  },
  {
   "cell_type": "code",
   "execution_count": null,
   "metadata": {
    "id": "oUlQpgkzJrGI",
    "scrolled": true
   },
   "outputs": [],
   "source": [
    "#Write your code to get the Vector count\n",
    "count_vect = CountVectorizer()\n",
    "X_train_counts = count_vect.fit_transform(training_data['complaintwhathappened'])\n",
    "count_array = X_train_counts.toarray()\n",
    "df_count = pd.DataFrame(data=count_array,columns = count_vect.get_feature_names())\n",
    "df_count"
   ]
  },
  {
   "cell_type": "code",
   "execution_count": null,
   "metadata": {},
   "outputs": [],
   "source": [
    "X_train_counts"
   ]
  },
  {
   "cell_type": "code",
   "execution_count": null,
   "metadata": {},
   "outputs": [],
   "source": [
    "#Write your code here to transform the word vector to tf-idf\n",
    "tfidf = TfidfTransformer()\n",
    "X_train_tfidf = tfidf.fit_transform(X_train_counts)"
   ]
  },
  {
   "cell_type": "code",
   "execution_count": null,
   "metadata": {},
   "outputs": [],
   "source": [
    "#Creating Train and Test data\n",
    "X_train, X_test, y_train, y_test = train_test_split(X_train_tfidf, training_data.Topic, test_size = 0.25, random_state = 1)\n",
    "\n",
    "print(f\"Shape of X_train: {X_train.shape}\")\n",
    "print(f\"Shape of y_train: {y_train.shape}\")\n",
    "print(f\"Shape of X_test: {X_test.shape}\")\n",
    "print(f\"Shape of y_test: {y_test.shape}\")"
   ]
  },
  {
   "cell_type": "markdown",
   "metadata": {
    "id": "uMU3vj6w-wqL"
   },
   "source": [
    "You have to try atleast 3 models on the train & test data from these options:\n",
    "* Logistic regression\n",
    "* Decision Tree\n",
    "* Random Forest\n",
    "* Naive Bayes (optional)\n",
    "\n",
    "**Using the required evaluation metrics judge the tried models and select the ones performing the best**"
   ]
  },
  {
   "cell_type": "code",
   "execution_count": null,
   "metadata": {
    "id": "N2OznsObJrGP"
   },
   "outputs": [],
   "source": [
    "# Creating a function to generate Classification Report\n",
    "def metric_report(y_test, y_pred, model_name):\n",
    "    # print classification report of classifier\n",
    "    print(f\"CLASSIFICATION REPORT for {model_name}\\n\")\n",
    "    print(classification_report(y_test, y_pred, target_names=[\"Bank Account services\", \"Theft/Dispute Reporting\", \"Others\", \"Credit card or prepaid card\",\n",
    "\"Mortgage/Loan\"]))\n",
    "    # plotting confusion matrix of the classifier\n",
    "    plt.figure(figsize=(10,6))\n",
    "    plt.title(f\"CONFUSION MATRIX for {model_name}\\n\")\n",
    "    matrix = confusion_matrix(y_test, y_pred)\n",
    "    sns.heatmap(matrix, annot=True, cbar=None, cmap=\"Blues\", fmt='d', xticklabels=[\"Bank Account services\", \"Theft/Dispute Reporting\", \"Others\", \"Credit card or prepaid card\",\n",
    "\"Mortgage/Loan\"], yticklabels=[\"Bank Account services\", \"Theft/Dispute Reporting\", \"Others\", \"Credit card or prepaid card\",\n",
    "\"Mortgage/Loan\"])\n",
    "    plt.show()\n",
    "    return"
   ]
  },
  {
   "cell_type": "code",
   "execution_count": null,
   "metadata": {
    "id": "udLHpPsZJrGI"
   },
   "outputs": [],
   "source": [
    "# Write your code here to build any 3 models and evaluate them using the required metrics"
   ]
  },
  {
   "cell_type": "markdown",
   "metadata": {},
   "source": [
    "<h3> Logistic Regression "
   ]
  },
  {
   "cell_type": "code",
   "execution_count": null,
   "metadata": {},
   "outputs": [],
   "source": [
    "logr = LogisticRegression(solver = 'liblinear')\n",
    "%time\n",
    "logr.fit(X_train,y_train)\n",
    "y_pred_lr = logr.predict(X_test)\n",
    "lr_acc = logr.score(X_test, y_test)\n",
    "lr_f1 = f1_score(y_test,y_pred_lr,average ='weighted')\n",
    "print(\"Logistic Regression Accuracy :\",lr_acc)\n",
    "print(\"Logistic Regression F1 Score :\" , lr_f1)"
   ]
  },
  {
   "cell_type": "code",
   "execution_count": null,
   "metadata": {},
   "outputs": [],
   "source": [
    "#Hyper Parameter Tuning\n",
    "solvers = ['newton-cg', 'lbfgs', 'liblinear']\n",
    "penalty = ['l2','l1']\n",
    "c_values = [100, 10, 1.0, 0.1, 0.01]\n",
    "grid = dict(solver=solvers,penalty=penalty,C=c_values)\n",
    "cv = RepeatedStratifiedKFold(n_splits=5, n_repeats=3, random_state=1)\n",
    "grid_search = GridSearchCV(estimator=logr, param_grid=grid, n_jobs=-1, cv=cv, scoring='accuracy', error_score=0)\n",
    "grid_result = grid_search.fit(X_train, y_train)\n",
    "print(grid_search.best_params_)"
   ]
  },
  {
   "cell_type": "code",
   "execution_count": null,
   "metadata": {},
   "outputs": [],
   "source": [
    "#Tuned Logistic Regression model\n",
    "logr_tuned = LogisticRegression(solver='liblinear', C = 1.0, penalty='l1',random_state=1)\n",
    "%time\n",
    "logr_tuned.fit(X_train,y_train)\n",
    "y_pred_lr_tuned = logr_tuned.predict(X_test)\n",
    "lr_acc_tuned = logr_tuned.score(X_test, y_test)\n",
    "lr_f1_tuned = f1_score(y_test,y_pred_lr_tuned,average ='weighted')\n",
    "print(\"Logistic Regression Accuracy after tuning:\",lr_score_tune)\n",
    "print(\"Logistic Regression F1 Score after tuning:\" , lr_f1_tuned)"
   ]
  },
  {
   "cell_type": "code",
   "execution_count": null,
   "metadata": {},
   "outputs": [],
   "source": [
    "#Logistic Regression Metric Report\n",
    "metric_report(y_test,y_pred_lr_tuned,logr_tuned)"
   ]
  },
  {
   "cell_type": "markdown",
   "metadata": {},
   "source": [
    "### Decision Tree"
   ]
  },
  {
   "cell_type": "code",
   "execution_count": null,
   "metadata": {},
   "outputs": [],
   "source": [
    "dtree = DecisionTreeClassifier()\n",
    "%time\n",
    "dtree.fit(X_train,y_train)\n",
    "y_pred_dt = dtree.predict(X_test)\n",
    "dt_acc = dtree.score(X_test, y_test)\n",
    "dt_f1 = f1_score(y_test,y_pred_dt,average ='weighted')\n",
    "print(\"Decision Tree Accuracy:\",dt_acc)\n",
    "print(\"Decision Tree F1 Score :\" , dt_f1)"
   ]
  },
  {
   "cell_type": "code",
   "execution_count": null,
   "metadata": {},
   "outputs": [],
   "source": [
    "# Hyperparameter tuning\n",
    "dtree_params = {\n",
    "     'criterion': ['gini', 'entropy'],\n",
    "     'max_depth' : [5, 10, 15, 20, 25, 30],\n",
    "     'min_samples_leaf':[1,5,10,15, 20, 25],\n",
    "     'max_features':['auto','log2','sqrt', None]}\n",
    "\n",
    "dtree_grid = GridSearchCV(estimator=dtree, param_grid=dtree_params, verbose=1, scoring='f1_weighted', n_jobs=-1, cv= 5)\n",
    "dtree_grid.fit(X_train, y_train)\n",
    "print(dtree_grid.best_params_)"
   ]
  },
  {
   "cell_type": "code",
   "execution_count": null,
   "metadata": {},
   "outputs": [],
   "source": [
    "# Decision Tree after hyper paramater tuning\n",
    "dtree_tuned = DecisionTreeClassifier(random_state=1, criterion='gini', min_samples_leaf= 15, max_features= None, max_depth= 25)\n",
    "%time\n",
    "dtree_tuned.fit(X_train,y_train)\n",
    "y_pred_dt_tuned = dtree_tuned.predict(X_test)\n",
    "dt_acc_tuned = dtree_tuned.score(X_test, y_test)\n",
    "dt_f1_tuned= f1_score(y_test,y_pred_dt_tuned,average ='weighted')\n",
    "print(\"Decision Tree Accuracy after tuning:\",dt_acc_tuned)\n",
    "print(\"Decision Tree F1 Score after tuning:\" , dt_f1_tuned)"
   ]
  },
  {
   "cell_type": "code",
   "execution_count": null,
   "metadata": {},
   "outputs": [],
   "source": [
    "# Decsition Tree Metric Report\n",
    "metric_report(y_test,y_pred_dt_tuned,dtree_tuned)"
   ]
  },
  {
   "cell_type": "markdown",
   "metadata": {},
   "source": [
    "### Random Forest"
   ]
  },
  {
   "cell_type": "code",
   "execution_count": null,
   "metadata": {},
   "outputs": [],
   "source": [
    "rf = RandomForestClassifier(random_state= 1)\n",
    "%time\n",
    "rf.fit(X_train,y_train)\n",
    "y_pred_rf = rf.predict(X_test)\n",
    "rf_acc = rf.score(X_test, y_test)\n",
    "rf_f1 = f1_score(y_test,y_pred_rf,average ='weighted')\n",
    "print(\"Random Forest Accuracy:\", rf_acc)\n",
    "print(\"Random Forest F1 Score :\" , rf_f1)"
   ]
  },
  {
   "cell_type": "code",
   "execution_count": null,
   "metadata": {},
   "outputs": [],
   "source": [
    "# Hyper Paramater Tuning\n",
    "params ={'max_depth': [10,20, 30, 40, 50, 100], 'max_features': ['auto', 'sqrt', None], 'min_samples_leaf': [1, 2, 3, 4, 5], 'min_samples_split': [2, 5, 10],'n_estimators': [200, 500, 1000, 1500, 2000]}\n",
    "rf_rand = RandomizedSearchCV(estimator = rf, param_distributions = params, cv = 5, scoring = \"f1_weighted\", n_jobs = -1, random_state = 1)\n",
    "rf_rand.fit(X_train, y_train)\n",
    "print(rf_rand.best_params_)"
   ]
  },
  {
   "cell_type": "code",
   "execution_count": null,
   "metadata": {},
   "outputs": [],
   "source": [
    "# Random Forest after using hyper paramater tuning\n",
    "rf_tuned = RandomForestClassifier(random_state= 1, n_estimators= 1500, min_samples_split= 2, min_samples_leaf= 1, max_features= 'sqrt', max_depth= 100)\n",
    "%time\n",
    "rf_tuned.fit(X_train,y_train)\n",
    "y_pred_rf_tuned = rf_tuned.predict(X_test)\n",
    "rf_acc_tuned = rf_tuned.score(X_test, y_test)\n",
    "rf_f1_tuned = f1_score(y_test,y_pred_rf_tuned,average ='weighted')\n",
    "print(\"Random Forest Accuracy after tuning:\", rf_acc_tuned)\n",
    "print(\"Random Forest F1 Score after tuning:\" , rf_f1_tuned)"
   ]
  },
  {
   "cell_type": "code",
   "execution_count": null,
   "metadata": {},
   "outputs": [],
   "source": [
    "# Random Forest Metric Report\n",
    "metric_report(y_test,y_pred_rf_tuned, rf_tuned)"
   ]
  },
  {
   "cell_type": "code",
   "execution_count": null,
   "metadata": {},
   "outputs": [],
   "source": [
    "# Creating a summary of perfromance of all models and comparing\n",
    "summary = pd.DataFrame({'Model': ['Logistic Regression'], 'Accuracy': [round(lr_acc_tuned, 2)], 'F1 Score': [round(lr_f1_tuned, 2)]})\n",
    "summary = summary.append({'Model': 'Decision Tree', 'Accuracy': round(dt_acc_tuned, 2) , \"F1 Score\": round(dt_f1_tuned, 2) }, ignore_index=True)\n",
    "summary = summary.append({'Model': 'Random Forest', 'Accuracy': round(rf_acc_tuned, 2) , \"F1 Score\": round(rf_f1_tuned, 2) }, ignore_index=True)\n",
    "summary"
   ]
  },
  {
   "cell_type": "markdown",
   "metadata": {},
   "source": [
    "From the above table it's clear that <b> Logistic Regression </b> is the best model. Thus using it for ticket class prediction"
   ]
  },
  {
   "cell_type": "code",
   "execution_count": null,
   "metadata": {},
   "outputs": [],
   "source": [
    "#Defining the customized function to use for ticket class prediction\n",
    "def custom_preprocessor(text):\n",
    "    return ' '.join(text).lower()\n",
    "\n",
    "def ticket_class_prediction(text):\n",
    "    target_names = [\"Bank Account services\", \"Theft/Dispute Reporting\", \"Others\", \"Credit card or prepaid card\", \"Mortgage/Loan\"]\n",
    "    vectorizer = count_vect\n",
    "    transformer = TfidfTransformer()\n",
    "    X_train_tfidf = transformer.fit_transform(X_train_counts)\n",
    "    model = logr_tuned\n",
    "    preprocessed_text = custom_preprocessor(text)\n",
    "    X_test_counts = vectorizer.transform([preprocessed_text])\n",
    "    X_test_tfidf = transformer.transform(X_test_counts)\n",
    "    predicted = model.predict(X_test_tfidf)\n",
    "    return(target_names[predicted[0]])"
   ]
  },
  {
   "cell_type": "code",
   "execution_count": null,
   "metadata": {},
   "outputs": [],
   "source": [
    "# Testing with custom input\n",
    "text = ['i have a dispute with the customer service']\n",
    "text1 = ['My credit card is not working']\n",
    "text2 = ['My loan is not yet sanctioned']\n",
    "text3 = ['I would like to change personal information in my account']\n",
    "print(\" Ticket belongs to the class \", ticket_class_prediction(text))\n",
    "print(\" Ticket belongs to the class \", ticket_class_prediction(text1))\n",
    "print(\" Ticket belongs to the class \", ticket_class_prediction(text2))\n",
    "print(\" Ticket belongs to the class \", ticket_class_prediction(text3))"
   ]
  }
 ],
 "metadata": {
  "colab": {
   "collapsed_sections": [
    "T9jD_6SeJrF3",
    "5DfCSbbmJrF4",
    "yYzD85nTJrGA",
    "piyLxzj6v07j",
    "280Vbqk-7a8M"
   ],
   "provenance": []
  },
  "kernelspec": {
   "display_name": "Python 3 (ipykernel)",
   "language": "python",
   "name": "python3"
  },
  "language_info": {
   "codemirror_mode": {
    "name": "ipython",
    "version": 3
   },
   "file_extension": ".py",
   "mimetype": "text/x-python",
   "name": "python",
   "nbconvert_exporter": "python",
   "pygments_lexer": "ipython3",
   "version": "3.9.13"
  }
 },
 "nbformat": 4,
 "nbformat_minor": 1
}
